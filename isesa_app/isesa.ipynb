{
 "cells": [
  {
   "cell_type": "code",
   "execution_count": 18,
   "metadata": {},
   "outputs": [],
   "source": [
    "import numpy as np # linear algebra\n",
    "import pandas as pd # data processing, CSV file I/O (e.g. pd.read_csv)\n",
    "import plotly.express as px # plotly library\n",
    "import seaborn as sns # seaborn library\n",
    "import matplotlib.pyplot as plt"
   ]
  },
  {
   "cell_type": "code",
   "execution_count": 19,
   "metadata": {},
   "outputs": [],
   "source": [
    "drop = pd.read_csv(\"dropout-ratio-2012-2015.csv\")\n",
    "water = pd.read_csv(\"percentage-of-schools-with-water-facility-2013-2016.csv\")\n",
    "gtoilet = pd.read_csv(\"schools-with-girls-toilet-2013-2016.csv\")\n",
    "comps = pd.read_csv(\"percentage-of-schools-with-comps-2013-2016.csv\")\n"
   ]
  },
  {
   "cell_type": "code",
   "execution_count": 20,
   "metadata": {},
   "outputs": [
    {
     "data": {
      "text/html": [
       "<div>\n",
       "<style scoped>\n",
       "    .dataframe tbody tr th:only-of-type {\n",
       "        vertical-align: middle;\n",
       "    }\n",
       "\n",
       "    .dataframe tbody tr th {\n",
       "        vertical-align: top;\n",
       "    }\n",
       "\n",
       "    .dataframe thead th {\n",
       "        text-align: right;\n",
       "    }\n",
       "</style>\n",
       "<table border=\"1\" class=\"dataframe\">\n",
       "  <thead>\n",
       "    <tr style=\"text-align: right;\">\n",
       "      <th></th>\n",
       "      <th>State_UT</th>\n",
       "      <th>year</th>\n",
       "      <th>Primary_Boys</th>\n",
       "      <th>Primary_Girls</th>\n",
       "      <th>Primary_Total</th>\n",
       "      <th>Upper Primary_Boys</th>\n",
       "      <th>Upper Primary_Girls</th>\n",
       "      <th>Upper Primary_Total</th>\n",
       "      <th>Secondary _Boys</th>\n",
       "      <th>Secondary _Girls</th>\n",
       "      <th>Secondary _Total</th>\n",
       "      <th>HrSecondary_Boys</th>\n",
       "      <th>HrSecondary_Girls</th>\n",
       "      <th>HrSecondary_Total</th>\n",
       "    </tr>\n",
       "  </thead>\n",
       "  <tbody>\n",
       "    <tr>\n",
       "      <th>0</th>\n",
       "      <td>A &amp; N Islands</td>\n",
       "      <td>2012-13</td>\n",
       "      <td>0.83</td>\n",
       "      <td>0.51</td>\n",
       "      <td>0.68</td>\n",
       "      <td>Uppe_r_Primary</td>\n",
       "      <td>1.09</td>\n",
       "      <td>1.23</td>\n",
       "      <td>5.57</td>\n",
       "      <td>5.55</td>\n",
       "      <td>5.56</td>\n",
       "      <td>17.66</td>\n",
       "      <td>10.15</td>\n",
       "      <td>14.14</td>\n",
       "    </tr>\n",
       "    <tr>\n",
       "      <th>1</th>\n",
       "      <td>A &amp; N Islands</td>\n",
       "      <td>2013-14</td>\n",
       "      <td>1.35</td>\n",
       "      <td>1.06</td>\n",
       "      <td>1.21</td>\n",
       "      <td>NR</td>\n",
       "      <td>1.54</td>\n",
       "      <td>0.51</td>\n",
       "      <td>8.36</td>\n",
       "      <td>5.98</td>\n",
       "      <td>7.2</td>\n",
       "      <td>18.94</td>\n",
       "      <td>12.2</td>\n",
       "      <td>15.87</td>\n",
       "    </tr>\n",
       "    <tr>\n",
       "      <th>2</th>\n",
       "      <td>A &amp; N Islands</td>\n",
       "      <td>2014-15</td>\n",
       "      <td>0.47</td>\n",
       "      <td>0.55</td>\n",
       "      <td>0.51</td>\n",
       "      <td>1.44</td>\n",
       "      <td>1.95</td>\n",
       "      <td>1.69</td>\n",
       "      <td>11.47</td>\n",
       "      <td>8.16</td>\n",
       "      <td>9.87</td>\n",
       "      <td>21.05</td>\n",
       "      <td>12.21</td>\n",
       "      <td>16.93</td>\n",
       "    </tr>\n",
       "    <tr>\n",
       "      <th>3</th>\n",
       "      <td>Andhra Pradesh</td>\n",
       "      <td>2012-13</td>\n",
       "      <td>3.3</td>\n",
       "      <td>3.05</td>\n",
       "      <td>3.18</td>\n",
       "      <td>3.21</td>\n",
       "      <td>3.51</td>\n",
       "      <td>3.36</td>\n",
       "      <td>12.21</td>\n",
       "      <td>13.25</td>\n",
       "      <td>12.72</td>\n",
       "      <td>2.66</td>\n",
       "      <td>NR</td>\n",
       "      <td>0.35</td>\n",
       "    </tr>\n",
       "    <tr>\n",
       "      <th>4</th>\n",
       "      <td>Andhra Pradesh</td>\n",
       "      <td>2013-14</td>\n",
       "      <td>4.31</td>\n",
       "      <td>4.39</td>\n",
       "      <td>4.35</td>\n",
       "      <td>3.46</td>\n",
       "      <td>4.12</td>\n",
       "      <td>3.78</td>\n",
       "      <td>11.95</td>\n",
       "      <td>13.37</td>\n",
       "      <td>12.65</td>\n",
       "      <td>12.65</td>\n",
       "      <td>10.85</td>\n",
       "      <td>11.79</td>\n",
       "    </tr>\n",
       "  </tbody>\n",
       "</table>\n",
       "</div>"
      ],
      "text/plain": [
       "         State_UT     year Primary_Boys Primary_Girls Primary_Total  \\\n",
       "0   A & N Islands  2012-13         0.83          0.51          0.68   \n",
       "1   A & N Islands  2013-14         1.35          1.06          1.21   \n",
       "2   A & N Islands  2014-15         0.47          0.55          0.51   \n",
       "3  Andhra Pradesh  2012-13          3.3          3.05          3.18   \n",
       "4  Andhra Pradesh  2013-14         4.31          4.39          4.35   \n",
       "\n",
       "  Upper Primary_Boys Upper Primary_Girls Upper Primary_Total Secondary _Boys  \\\n",
       "0     Uppe_r_Primary                1.09                1.23            5.57   \n",
       "1                 NR                1.54                0.51            8.36   \n",
       "2               1.44                1.95                1.69           11.47   \n",
       "3               3.21                3.51                3.36           12.21   \n",
       "4               3.46                4.12                3.78           11.95   \n",
       "\n",
       "  Secondary _Girls Secondary _Total HrSecondary_Boys HrSecondary_Girls  \\\n",
       "0             5.55             5.56            17.66             10.15   \n",
       "1             5.98              7.2            18.94              12.2   \n",
       "2             8.16             9.87            21.05             12.21   \n",
       "3            13.25            12.72             2.66                NR   \n",
       "4            13.37            12.65            12.65             10.85   \n",
       "\n",
       "  HrSecondary_Total  \n",
       "0             14.14  \n",
       "1             15.87  \n",
       "2             16.93  \n",
       "3              0.35  \n",
       "4             11.79  "
      ]
     },
     "execution_count": 20,
     "metadata": {},
     "output_type": "execute_result"
    }
   ],
   "source": [
    "drop.head()"
   ]
  },
  {
   "cell_type": "code",
   "execution_count": 21,
   "metadata": {},
   "outputs": [
    {
     "name": "stdout",
     "output_type": "stream",
     "text": [
      "Index(['State_UT', 'year', 'Primary_Boys', 'Primary_Girls', 'Primary_Total',\n",
      "       'Upper Primary_Boys', 'Upper Primary_Girls', 'Upper Primary_Total',\n",
      "       'Secondary _Boys', 'Secondary _Girls', 'Secondary _Total',\n",
      "       'HrSecondary_Boys', 'HrSecondary_Girls', 'HrSecondary_Total'],\n",
      "      dtype='object')\n"
     ]
    }
   ],
   "source": [
    "# Print the column names\n",
    "print(drop.columns)"
   ]
  },
  {
   "cell_type": "code",
   "execution_count": 22,
   "metadata": {},
   "outputs": [
    {
     "data": {
      "image/png": "[encoded data removed]",
      "text/plain": [
       "<Figure size 1000x1200 with 1 Axes>"
      ]
     },
     "metadata": {},
     "output_type": "display_data"
    }
   ],
   "source": [
    "# Filter data for the academic year 2014-15\n",
    "drop_2014_15 = drop[drop['year'] == '2014-15']\n",
    "\n",
    "# Remove 'All India' from the data\n",
    "drop_2014_15 = drop_2014_15[drop_2014_15['State_UT'] != 'All India']\n",
    "\n",
    "# Select the relevant columns\n",
    "data_2014_15 = drop_2014_15[['State_UT', 'Secondary _Boys', 'Secondary _Girls']].copy()\n",
    "\n",
    "# Convert columns to numeric values\n",
    "data_2014_15['Secondary _Boys'] = pd.to_numeric(data_2014_15['Secondary _Boys'], errors='coerce')\n",
    "data_2014_15['Secondary _Girls'] = pd.to_numeric(data_2014_15['Secondary _Girls'], errors='coerce')\n",
    "\n",
    "# Sort the data by 'Secondary _Boys'\n",
    "data_2014_15 = data_2014_15.sort_values('Secondary _Boys')\n",
    "\n",
    "# Get the states and the number of states\n",
    "states = data_2014_15['State_UT']\n",
    "num_states = len(states)\n",
    "\n",
    "# Set the width of the bars\n",
    "bar_width = 0.35\n",
    "\n",
    "# Generate the y-axis positions for the bars\n",
    "index = np.arange(num_states)\n",
    "\n",
    "# Create a figure\n",
    "fig, ax = plt.subplots(figsize=(10, 12))\n",
    "\n",
    "# Plot 'Secondary _Boys' bars\n",
    "boys = ax.barh(index, data_2014_15['Secondary _Boys'], bar_width, color='g', label='Boys')\n",
    "\n",
    "# Plot 'Secondary _Girls' bars\n",
    "girls = ax.barh(index + bar_width, data_2014_15['Secondary _Girls'], bar_width, color='r', label='Girls')\n",
    "\n",
    "# Add labels, title, and legend\n",
    "ax.set_ylabel('States')\n",
    "ax.set_xlabel('Dropout Ratio')\n",
    "ax.set_title('States and secondary school dropout ratio for the Academic Year 2014-15')\n",
    "ax.set_yticks(index + bar_width / 2)\n",
    "ax.set_yticklabels(states)\n",
    "ax.legend()\n",
    "\n",
    "# Display the bar graph\n",
    "plt.tight_layout()\n",
    "plt.show()"
   ]
  },
  {
   "cell_type": "code",
   "execution_count": 23,
   "metadata": {},
   "outputs": [
    {
     "data": {
      "image/png": "[encoded data removed]",
      "text/plain": [
       "<Figure size 1000x1200 with 1 Axes>"
      ]
     },
     "metadata": {},
     "output_type": "display_data"
    }
   ],
   "source": [
    "# Filter data for the academic year 2013-14\n",
    "drop_2013_14 = drop[drop['year'] == '2013-14']\n",
    "\n",
    "# Remove 'All India' from the data\n",
    "drop_2013_14 = drop_2013_14[drop_2013_14['State_UT'] != 'All India']\n",
    "\n",
    "# Select the relevant columns\n",
    "data_2013_14 = drop_2013_14[['State_UT', 'Secondary _Boys', 'Secondary _Girls']].copy()\n",
    "\n",
    "# Convert columns to numeric values\n",
    "data_2013_14['Secondary _Boys'] = pd.to_numeric(data_2013_14['Secondary _Boys'], errors='coerce')\n",
    "data_2013_14['Secondary _Girls'] = pd.to_numeric(data_2013_14['Secondary _Girls'], errors='coerce')\n",
    "\n",
    "# Sort the data by 'Secondary _Boys'\n",
    "data_2013_14 = data_2013_14.sort_values('Secondary _Boys')\n",
    "\n",
    "# Get the states and the number of states\n",
    "states = data_2013_14['State_UT']\n",
    "num_states = len(states)\n",
    "\n",
    "# Set the width of the bars\n",
    "bar_width = 0.35\n",
    "\n",
    "# Generate the y-axis positions for the bars\n",
    "index = np.arange(num_states)\n",
    "\n",
    "# Create a figure\n",
    "fig, ax = plt.subplots(figsize=(10, 12))\n",
    "\n",
    "# Plot 'Secondary _Boys' bars\n",
    "boys = ax.barh(index, data_2013_14['Secondary _Boys'], bar_width, color='g', label='Boys')\n",
    "\n",
    "# Plot 'Secondary _Girls' bars\n",
    "girls = ax.barh(index + bar_width, data_2013_14['Secondary _Girls'], bar_width, color='r', label='Girls')\n",
    "\n",
    "# Add labels, title, and legend\n",
    "ax.set_ylabel('States')\n",
    "ax.set_xlabel('Dropout Ratio')\n",
    "ax.set_title('States and secondary school dropout ratio for the Academic Year 2013-14')\n",
    "ax.set_yticks(index + bar_width / 2)\n",
    "ax.set_yticklabels(states)\n",
    "ax.legend()\n",
    "\n",
    "# Display the bar graph\n",
    "plt.tight_layout()\n",
    "plt.show()"
   ]
  },
  {
   "cell_type": "code",
   "execution_count": 24,
   "metadata": {},
   "outputs": [],
   "source": [
    "# Filter data for the academic year 2012-13\n",
    "drop_2012_13 = drop[drop['year'] == '2012-13']\n",
    "# Remove 'All India' from the data\n",
    "drop_2012_13 = drop_2012_13[drop_2012_13['State_UT'] != 'All India']\n",
    "\n"
   ]
  },
  {
   "cell_type": "code",
   "execution_count": 25,
   "metadata": {},
   "outputs": [],
   "source": [
    "#calculate the total dropout rate for each state\n",
    "drop_2013_14['Total'] = drop_2013_14['Primary_Total'] + drop_2013_14['Upper Primary_Total'] + drop_2013_14['Secondary _Total'] + drop_2013_14['HrSecondary_Total']  \n",
    "drop_2014_15['Total'] = drop_2014_15['Primary_Total'] + drop_2014_15['Upper Primary_Total'] + drop_2014_15['Secondary _Total'] + drop_2014_15['HrSecondary_Total']\n",
    "drop_2012_13['Total'] = drop_2012_13['Primary_Total'] + drop_2012_13['Upper Primary_Total'] + drop_2012_13['Secondary _Total'] + drop_2012_13['HrSecondary_Total']\n"
   ]
  },
  {
   "cell_type": "code",
   "execution_count": 26,
   "metadata": {},
   "outputs": [],
   "source": [
    " #Load the data into a DataFrame\n",
    "data = pd.read_csv('gross-enrollment-ratio-2013-2016.csv')"
   ]
  },
  {
   "cell_type": "code",
   "execution_count": 27,
   "metadata": {},
   "outputs": [
    {
     "data": {
      "text/html": [
       "<div>\n",
       "<style scoped>\n",
       "    .dataframe tbody tr th:only-of-type {\n",
       "        vertical-align: middle;\n",
       "    }\n",
       "\n",
       "    .dataframe tbody tr th {\n",
       "        vertical-align: top;\n",
       "    }\n",
       "\n",
       "    .dataframe thead th {\n",
       "        text-align: right;\n",
       "    }\n",
       "</style>\n",
       "<table border=\"1\" class=\"dataframe\">\n",
       "  <thead>\n",
       "    <tr style=\"text-align: right;\">\n",
       "      <th></th>\n",
       "      <th>State_UT</th>\n",
       "      <th>Year</th>\n",
       "      <th>Primary_Boys</th>\n",
       "      <th>Primary_Girls</th>\n",
       "      <th>Primary_Total</th>\n",
       "      <th>Upper_Primary_Boys</th>\n",
       "      <th>Upper_Primary_Girls</th>\n",
       "      <th>Upper_Primary_Total</th>\n",
       "      <th>Secondary_Boys</th>\n",
       "      <th>Secondary_Girls</th>\n",
       "      <th>Secondary_Total</th>\n",
       "      <th>Higher_Secondary_Boys</th>\n",
       "      <th>Higher_Secondary_Girls</th>\n",
       "      <th>Higher_Secondary_Total</th>\n",
       "    </tr>\n",
       "  </thead>\n",
       "  <tbody>\n",
       "    <tr>\n",
       "      <th>0</th>\n",
       "      <td>Andaman &amp; Nicobar Islands</td>\n",
       "      <td>2013-14</td>\n",
       "      <td>95.88</td>\n",
       "      <td>91.97</td>\n",
       "      <td>93.93</td>\n",
       "      <td>94.70</td>\n",
       "      <td>88.98</td>\n",
       "      <td>91.83</td>\n",
       "      <td>102.89</td>\n",
       "      <td>97.36</td>\n",
       "      <td>100.16</td>\n",
       "      <td>105.4</td>\n",
       "      <td>96.61</td>\n",
       "      <td>101.28</td>\n",
       "    </tr>\n",
       "    <tr>\n",
       "      <th>1</th>\n",
       "      <td>Andhra Pradesh</td>\n",
       "      <td>2013-14</td>\n",
       "      <td>96.62</td>\n",
       "      <td>96.87</td>\n",
       "      <td>96.74</td>\n",
       "      <td>82.81</td>\n",
       "      <td>84.38</td>\n",
       "      <td>83.57</td>\n",
       "      <td>73.76</td>\n",
       "      <td>76.77</td>\n",
       "      <td>75.20</td>\n",
       "      <td>59.83</td>\n",
       "      <td>60.83</td>\n",
       "      <td>60.3</td>\n",
       "    </tr>\n",
       "    <tr>\n",
       "      <th>2</th>\n",
       "      <td>Arunachal Pradesh</td>\n",
       "      <td>2013-14</td>\n",
       "      <td>129.12</td>\n",
       "      <td>127.77</td>\n",
       "      <td>128.46</td>\n",
       "      <td>112.64</td>\n",
       "      <td>115.27</td>\n",
       "      <td>113.94</td>\n",
       "      <td>88.37</td>\n",
       "      <td>84.89</td>\n",
       "      <td>86.65</td>\n",
       "      <td>65.16</td>\n",
       "      <td>65.38</td>\n",
       "      <td>65.27</td>\n",
       "    </tr>\n",
       "    <tr>\n",
       "      <th>3</th>\n",
       "      <td>Assam</td>\n",
       "      <td>2013-14</td>\n",
       "      <td>111.77</td>\n",
       "      <td>115.16</td>\n",
       "      <td>113.43</td>\n",
       "      <td>87.85</td>\n",
       "      <td>98.69</td>\n",
       "      <td>93.13</td>\n",
       "      <td>65.60</td>\n",
       "      <td>77.20</td>\n",
       "      <td>71.21</td>\n",
       "      <td>31.78</td>\n",
       "      <td>34.27</td>\n",
       "      <td>32.94</td>\n",
       "    </tr>\n",
       "    <tr>\n",
       "      <th>4</th>\n",
       "      <td>Bihar</td>\n",
       "      <td>2013-14</td>\n",
       "      <td>95.03</td>\n",
       "      <td>101.15</td>\n",
       "      <td>97.96</td>\n",
       "      <td>80.60</td>\n",
       "      <td>94.92</td>\n",
       "      <td>87.24</td>\n",
       "      <td>57.66</td>\n",
       "      <td>62.96</td>\n",
       "      <td>60.08</td>\n",
       "      <td>23.33</td>\n",
       "      <td>24.17</td>\n",
       "      <td>23.7</td>\n",
       "    </tr>\n",
       "  </tbody>\n",
       "</table>\n",
       "</div>"
      ],
      "text/plain": [
       "                    State_UT     Year  Primary_Boys  Primary_Girls  \\\n",
       "0  Andaman & Nicobar Islands  2013-14         95.88          91.97   \n",
       "1             Andhra Pradesh  2013-14         96.62          96.87   \n",
       "2          Arunachal Pradesh  2013-14        129.12         127.77   \n",
       "3                      Assam  2013-14        111.77         115.16   \n",
       "4                      Bihar  2013-14         95.03         101.15   \n",
       "\n",
       "   Primary_Total  Upper_Primary_Boys  Upper_Primary_Girls  \\\n",
       "0          93.93               94.70                88.98   \n",
       "1          96.74               82.81                84.38   \n",
       "2         128.46              112.64               115.27   \n",
       "3         113.43               87.85                98.69   \n",
       "4          97.96               80.60                94.92   \n",
       "\n",
       "   Upper_Primary_Total  Secondary_Boys  Secondary_Girls  Secondary_Total  \\\n",
       "0                91.83          102.89            97.36           100.16   \n",
       "1                83.57           73.76            76.77            75.20   \n",
       "2               113.94           88.37            84.89            86.65   \n",
       "3                93.13           65.60            77.20            71.21   \n",
       "4                87.24           57.66            62.96            60.08   \n",
       "\n",
       "  Higher_Secondary_Boys Higher_Secondary_Girls Higher_Secondary_Total  \n",
       "0                 105.4                  96.61                 101.28  \n",
       "1                 59.83                  60.83                   60.3  \n",
       "2                 65.16                  65.38                  65.27  \n",
       "3                 31.78                  34.27                  32.94  \n",
       "4                 23.33                  24.17                   23.7  "
      ]
     },
     "execution_count": 27,
     "metadata": {},
     "output_type": "execute_result"
    }
   ],
   "source": [
    "data.head()"
   ]
  },
  {
   "cell_type": "code",
   "execution_count": 28,
   "metadata": {},
   "outputs": [
    {
     "name": "stdout",
     "output_type": "stream",
     "text": [
      "Index(['State_UT', 'Year', 'Primary_Boys', 'Primary_Girls', 'Primary_Total',\n",
      "       'Upper_Primary_Boys', 'Upper_Primary_Girls', 'Upper_Primary_Total',\n",
      "       'Secondary_Boys', 'Secondary_Girls', 'Secondary_Total',\n",
      "       'Higher_Secondary_Boys', 'Higher_Secondary_Girls',\n",
      "       'Higher_Secondary_Total'],\n",
      "      dtype='object')\n"
     ]
    }
   ],
   "source": [
    "print(data.columns)"
   ]
  },
  {
   "cell_type": "code",
   "execution_count": 29,
   "metadata": {},
   "outputs": [
    {
     "data": {
      "image/png": "[encoded data removed]",
      "text/plain": [
       "<Figure size 1000x600 with 1 Axes>"
      ]
     },
     "metadata": {},
     "output_type": "display_data"
    }
   ],
   "source": [
    "\n",
    "\n",
    "# Calculate the average GER for each level of education\n",
    "avg_GER_primary = data['Primary_Total'].mean()\n",
    "avg_GER_secondary = data['Secondary_Total'].mean()\n",
    "avg_GER_tertiary = data['Upper_Primary_Total'].mean()\n",
    "#avg_GER_Higher_secondary = data['Higher_Secondary_Total'].mean()\n",
    "\n",
    "# Plot the GER trend for each level of education\n",
    "plt.figure(figsize=(10, 6))\n",
    "\n",
    "plt.plot(data['Year'], data['Primary_Total'], label='GER Primary')\n",
    "plt.plot(data['Year'], data['Secondary_Total'], label='GER Secondary')\n",
    "plt.plot(data['Year'], data['Upper_Primary_Total'], label='GER Upper primary')\n",
    "#plt.plot(data['Year'], data['Higher_Secondary_Total'], label='GER higher secondary')\n",
    "plt.legend()\n",
    "plt.xlabel('Year')\n",
    "plt.ylabel('GER')\n",
    "plt.title('GER Trend in Indian Schools')\n",
    "plt.grid(True)\n",
    "plt.show()"
   ]
  },
  {
   "cell_type": "code",
   "execution_count": 30,
   "metadata": {},
   "outputs": [],
   "source": [
    "data.replace('NR', np.nan, inplace=True)"
   ]
  },
  {
   "cell_type": "code",
   "execution_count": 31,
   "metadata": {},
   "outputs": [
    {
     "data": {
      "image/png": "[encoded data removed]",
      "text/plain": [
       "<Figure size 2000x1000 with 1 Axes>"
      ]
     },
     "metadata": {},
     "output_type": "display_data"
    }
   ],
   "source": [
    "# Select the relevant columns for comparison\n",
    "comparison_data = data[['Year', 'Primary_Total', 'Upper_Primary_Total', 'Secondary_Total']]\n",
    "\n",
    "# Group the data by Year and calculate the average GER for each year\n",
    "year_avg_GER = comparison_data.groupby('Year').mean()\n",
    "\n",
    "# Sort the data by Year in ascending order\n",
    "year_avg_GER = year_avg_GER.sort_values('Year')\n",
    "\n",
    "# Plot the bar chart\n",
    "year_avg_GER.plot(kind='bar', figsize=(20, 10))\n",
    "plt.xlabel('Year')\n",
    "plt.ylabel('Average GER')\n",
    "plt.title('Comparison of Average GER by Year')\n",
    "plt.legend(['Primary', 'Upper Primary', 'Secondary'])\n",
    "plt.xticks(rotation=45)\n",
    "plt.show()\n"
   ]
  },
  {
   "cell_type": "code",
   "execution_count": null,
   "metadata": {},
   "outputs": [],
   "source": [
    "# Define the state_avg_GER DataFrame\n",
    "state_avg_GER = pd.DataF()\n",
    "\n",
    "# Sort the data by average GER in ascending order\n",
    "state_avg_GER = state_avg_GER.sort_values('Primary_Total', ascending=True)\n",
    "\n",
    "\n",
    "# Create a new column for the rank of each state\n",
    "state_avg_GER['Rank'] = range(1, len(state_avg_GER) + 1)\n",
    "\n",
    "# Plot the bump chart\n",
    "plt.figure(figsize=(10, 8))\n",
    "for i, col in enumerate(['Primary_Total', 'Upper_Primary_Total', 'Secondary_Total']):\n",
    "    plt.plot(state_avg_GER['Rank'], state_avg_GER[col], marker='o', label=col)\n",
    "\n",
    "# Add labels, title, and legend\n",
    "plt.xlabel('Rank')\n",
    "plt.ylabel('Average GER')\n",
    "plt.title('Comparison of Average GER by State/UT')\n",
    "plt.legend(['Primary', 'Upper Primary', 'Secondary'])\n",
    "plt.xticks(rotation=45)\n",
    "\n",
    "# Display the bump chart\n",
    "plt.show()\n"
   ]
  },
  {
   "cell_type": "code",
   "execution_count": 43,
   "metadata": {},
   "outputs": [
    {
     "data": {
      "text/plain": [
       "<Figure size 1200x600 with 0 Axes>"
      ]
     },
     "metadata": {},
     "output_type": "display_data"
    },
    {
     "data": {
      "image/png": "[encoded data removed]",
      "text/plain": [
       "<Figure size 640x480 with 1 Axes>"
      ]
     },
     "metadata": {},
     "output_type": "display_data"
    }
   ],
   "source": [
    "# Select the relevant columns for comparison\n",
    "comparison_data = data[['State_UT', 'Primary_Total', 'Upper_Primary_Total', 'Secondary_Total']]\n",
    "\n",
    "# Group the data by State_UT and calculate the average GER for each state\n",
    "state_avg_GER = comparison_data.groupby('State_UT').mean()\n",
    "\n",
    "# Sort the data by average GER in descending order\n",
    "#state_avg_GER = state_avg_GER.sort_values('Primary_Total', ascending=True)\n",
    "state_avg_GER = state_avg_GER.sort_values('Upper_Primary_Total', ascending=True)\n",
    "\n",
    "# Create a list of colors for the bump chart\n",
    "colors = ['green', 'blue', 'red']\n",
    "\n",
    "# Create the bump chart\n",
    "plt.figure(figsize=(12, 6))\n",
    "state_avg_GER.plot(kind='area', stacked=False, color=colors)\n",
    "plt.xlabel('State/UT')\n",
    "plt.ylabel('Total Enrollment')\n",
    "plt.title('Comparison of Total Enrollment by State/UT')\n",
    "plt.legend(['Primary', 'Upper Primary', 'Secondary'])\n",
    "plt.xticks(rotation=45)\n",
    "plt.grid(True)\n",
    "plt.show()"
   ]
  },
  {
   "cell_type": "code",
   "execution_count": 37,
   "metadata": {},
   "outputs": [
    {
     "data": {
      "image/png": "[encoded data removed]",
      "text/plain": [
       "<Figure size 2000x2000 with 1 Axes>"
      ]
     },
     "metadata": {},
     "output_type": "display_data"
    }
   ],
   "source": [
    "# Select the relevant columns for comparison\n",
    "comparison_data = data[['State_UT', 'Primary_Total', 'Upper_Primary_Total', 'Secondary_Total']]\n",
    "\n",
    "# Group the data by State_UT and calculate the average GER for each state\n",
    "state_avg_GER = comparison_data.groupby('State_UT').mean()\n",
    "\n",
    "# Sort the data by average GER in descending order\n",
    "state_avg_GER = state_avg_GER.sort_values('Primary_Total', ascending=False)\n",
    "\n",
    "# Plot the bar chart\n",
    "state_avg_GER.plot(kind='bar', figsize=(20, 20))\n",
    "plt.xlabel('State/UT')\n",
    "plt.ylabel('Average GER')\n",
    "plt.title('Comparison of Average GER by State/UT')\n",
    "plt.legend(['Primary', 'Upper Primary', 'Secondary'])\n",
    "plt.xticks(rotation=45)\n",
    "plt.show()\n"
   ]
  },
  {
   "cell_type": "code",
   "execution_count": 34,
   "metadata": {},
   "outputs": [
    {
     "data": {
      "image/png": "[encoded data removed]",
      "text/plain": [
       "<Figure size 1000x600 with 1 Axes>"
      ]
     },
     "metadata": {},
     "output_type": "display_data"
    }
   ],
   "source": [
    "# Select the relevant columns for comparison\n",
    "comparison_data = data[['Primary_Boys', 'Primary_Girls', 'Upper_Primary_Boys', 'Upper_Primary_Girls', 'Secondary_Boys', 'Secondary_Girls']]\n",
    "\n",
    "# Plot the histogram\n",
    "comparison_data.plot(kind='hist', bins=10, alpha=0.5, figsize=(10, 6))\n",
    "plt.xlabel('GER')\n",
    "plt.ylabel('Frequency')\n",
    "plt.title('Distribution of GER by Gender')\n",
    "plt.legend(['Primary Boys', 'Primary Girls', 'Upper Primary Boys', 'Upper Primary Girls', 'Secondary Boys', 'Secondary Girls'])\n",
    "plt.show()\n"
   ]
  },
  {
   "cell_type": "code",
   "execution_count": null,
   "metadata": {},
   "outputs": [
    {
     "data": {
      "text/plain": [
       "Index(['State_UT', 'year', 'Primary_Only', 'Primary_with_U_Primary',\n",
       "       'Primary_with_U_Primary_Sec_HrSec', 'U_Primary_Only',\n",
       "       'U_Primary_With_Sec_HrSec', 'Primary_with_U_Primary_Sec',\n",
       "       'U_Primary_With_Sec', 'Sec_Only', 'Sec_with_HrSec.', 'HrSec_Only',\n",
       "       'All Schools'],\n",
       "      dtype='object')"
      ]
     },
     "execution_count": 41,
     "metadata": {},
     "output_type": "execute_result"
    }
   ],
   "source": [
    "comps.columns"
   ]
  },
  {
   "cell_type": "code",
   "execution_count": null,
   "metadata": {},
   "outputs": [
    {
     "data": {
      "text/html": [
       "<div>\n",
       "<style scoped>\n",
       "    .dataframe tbody tr th:only-of-type {\n",
       "        vertical-align: middle;\n",
       "    }\n",
       "\n",
       "    .dataframe tbody tr th {\n",
       "        vertical-align: top;\n",
       "    }\n",
       "\n",
       "    .dataframe thead th {\n",
       "        text-align: right;\n",
       "    }\n",
       "</style>\n",
       "<table border=\"1\" class=\"dataframe\">\n",
       "  <thead>\n",
       "    <tr style=\"text-align: right;\">\n",
       "      <th></th>\n",
       "      <th>Primary_Total</th>\n",
       "      <th>Upper_Primary_Total</th>\n",
       "      <th>Secondary_Total</th>\n",
       "    </tr>\n",
       "  </thead>\n",
       "  <tbody>\n",
       "    <tr>\n",
       "      <th>Primary_Total</th>\n",
       "      <td>1.000000</td>\n",
       "      <td>0.698719</td>\n",
       "      <td>0.064725</td>\n",
       "    </tr>\n",
       "    <tr>\n",
       "      <th>Upper_Primary_Total</th>\n",
       "      <td>0.698719</td>\n",
       "      <td>1.000000</td>\n",
       "      <td>0.541461</td>\n",
       "    </tr>\n",
       "    <tr>\n",
       "      <th>Secondary_Total</th>\n",
       "      <td>0.064725</td>\n",
       "      <td>0.541461</td>\n",
       "      <td>1.000000</td>\n",
       "    </tr>\n",
       "  </tbody>\n",
       "</table>\n",
       "</div>"
      ],
      "text/plain": [
       "                     Primary_Total  Upper_Primary_Total  Secondary_Total\n",
       "Primary_Total             1.000000             0.698719         0.064725\n",
       "Upper_Primary_Total       0.698719             1.000000         0.541461\n",
       "Secondary_Total           0.064725             0.541461         1.000000"
      ]
     },
     "execution_count": 42,
     "metadata": {},
     "output_type": "execute_result"
    }
   ],
   "source": [
    "# Select the relevant columns for correlation analysis\n",
    "correlation_data = data[['Primary_Total', 'Upper_Primary_Total', 'Secondary_Total', ]]\n",
    "\n",
    "\n",
    "# Calculate the correlation matrix\n",
    "correlation_matrix = correlation_data.corr()\n",
    "\n",
    "# Display the correlation matrix\n",
    "correlation_matrix\n"
   ]
  },
  {
   "cell_type": "code",
   "execution_count": null,
   "metadata": {},
   "outputs": [
    {
     "data": {
      "image/png": "[encoded data removed]",
      "text/plain": [
       "<Figure size 1000x600 with 2 Axes>"
      ]
     },
     "metadata": {},
     "output_type": "display_data"
    }
   ],
   "source": [
    "# Plot the correlation matrix\n",
    "plt.figure(figsize=(10, 6))\n",
    "sns.heatmap(correlation_matrix, annot=True)\n",
    "plt.title('Correlation Matrix')\n",
    "plt.show()\n"
   ]
  },
  {
   "cell_type": "code",
   "execution_count": null,
   "metadata": {},
   "outputs": [],
   "source": [
    "#total gross enrollment ratio for each state\n",
    "data['Total'] = data['Primary_Total'] + data['Upper_Primary_Total'] + data['Secondary_Total'] "
   ]
  },
  {
   "cell_type": "code",
   "execution_count": null,
   "metadata": {},
   "outputs": [
    {
     "data": {
      "text/html": [
       "<div>\n",
       "<style scoped>\n",
       "    .dataframe tbody tr th:only-of-type {\n",
       "        vertical-align: middle;\n",
       "    }\n",
       "\n",
       "    .dataframe tbody tr th {\n",
       "        vertical-align: top;\n",
       "    }\n",
       "\n",
       "    .dataframe thead th {\n",
       "        text-align: right;\n",
       "    }\n",
       "</style>\n",
       "<table border=\"1\" class=\"dataframe\">\n",
       "  <thead>\n",
       "    <tr style=\"text-align: right;\">\n",
       "      <th></th>\n",
       "      <th>State_UT</th>\n",
       "      <th>Year</th>\n",
       "      <th>Primary_Boys</th>\n",
       "      <th>Primary_Girls</th>\n",
       "      <th>Primary_Total</th>\n",
       "      <th>Upper_Primary_Boys</th>\n",
       "      <th>Upper_Primary_Girls</th>\n",
       "      <th>Upper_Primary_Total</th>\n",
       "      <th>Secondary_Boys</th>\n",
       "      <th>Secondary_Girls</th>\n",
       "      <th>Secondary_Total</th>\n",
       "      <th>Higher_Secondary_Boys</th>\n",
       "      <th>Higher_Secondary_Girls</th>\n",
       "      <th>Higher_Secondary_Total</th>\n",
       "      <th>Total</th>\n",
       "    </tr>\n",
       "  </thead>\n",
       "  <tbody>\n",
       "    <tr>\n",
       "      <th>0</th>\n",
       "      <td>Andaman &amp; Nicobar Islands</td>\n",
       "      <td>2013-14</td>\n",
       "      <td>95.88</td>\n",
       "      <td>91.97</td>\n",
       "      <td>93.93</td>\n",
       "      <td>94.70</td>\n",
       "      <td>88.98</td>\n",
       "      <td>91.83</td>\n",
       "      <td>102.89</td>\n",
       "      <td>97.36</td>\n",
       "      <td>100.16</td>\n",
       "      <td>105.4</td>\n",
       "      <td>96.61</td>\n",
       "      <td>101.28</td>\n",
       "      <td>285.92</td>\n",
       "    </tr>\n",
       "    <tr>\n",
       "      <th>1</th>\n",
       "      <td>Andhra Pradesh</td>\n",
       "      <td>2013-14</td>\n",
       "      <td>96.62</td>\n",
       "      <td>96.87</td>\n",
       "      <td>96.74</td>\n",
       "      <td>82.81</td>\n",
       "      <td>84.38</td>\n",
       "      <td>83.57</td>\n",
       "      <td>73.76</td>\n",
       "      <td>76.77</td>\n",
       "      <td>75.20</td>\n",
       "      <td>59.83</td>\n",
       "      <td>60.83</td>\n",
       "      <td>60.3</td>\n",
       "      <td>255.51</td>\n",
       "    </tr>\n",
       "    <tr>\n",
       "      <th>2</th>\n",
       "      <td>Arunachal Pradesh</td>\n",
       "      <td>2013-14</td>\n",
       "      <td>129.12</td>\n",
       "      <td>127.77</td>\n",
       "      <td>128.46</td>\n",
       "      <td>112.64</td>\n",
       "      <td>115.27</td>\n",
       "      <td>113.94</td>\n",
       "      <td>88.37</td>\n",
       "      <td>84.89</td>\n",
       "      <td>86.65</td>\n",
       "      <td>65.16</td>\n",
       "      <td>65.38</td>\n",
       "      <td>65.27</td>\n",
       "      <td>329.05</td>\n",
       "    </tr>\n",
       "    <tr>\n",
       "      <th>3</th>\n",
       "      <td>Assam</td>\n",
       "      <td>2013-14</td>\n",
       "      <td>111.77</td>\n",
       "      <td>115.16</td>\n",
       "      <td>113.43</td>\n",
       "      <td>87.85</td>\n",
       "      <td>98.69</td>\n",
       "      <td>93.13</td>\n",
       "      <td>65.60</td>\n",
       "      <td>77.20</td>\n",
       "      <td>71.21</td>\n",
       "      <td>31.78</td>\n",
       "      <td>34.27</td>\n",
       "      <td>32.94</td>\n",
       "      <td>277.77</td>\n",
       "    </tr>\n",
       "    <tr>\n",
       "      <th>4</th>\n",
       "      <td>Bihar</td>\n",
       "      <td>2013-14</td>\n",
       "      <td>95.03</td>\n",
       "      <td>101.15</td>\n",
       "      <td>97.96</td>\n",
       "      <td>80.60</td>\n",
       "      <td>94.92</td>\n",
       "      <td>87.24</td>\n",
       "      <td>57.66</td>\n",
       "      <td>62.96</td>\n",
       "      <td>60.08</td>\n",
       "      <td>23.33</td>\n",
       "      <td>24.17</td>\n",
       "      <td>23.7</td>\n",
       "      <td>245.28</td>\n",
       "    </tr>\n",
       "    <tr>\n",
       "      <th>...</th>\n",
       "      <td>...</td>\n",
       "      <td>...</td>\n",
       "      <td>...</td>\n",
       "      <td>...</td>\n",
       "      <td>...</td>\n",
       "      <td>...</td>\n",
       "      <td>...</td>\n",
       "      <td>...</td>\n",
       "      <td>...</td>\n",
       "      <td>...</td>\n",
       "      <td>...</td>\n",
       "      <td>...</td>\n",
       "      <td>...</td>\n",
       "      <td>...</td>\n",
       "      <td>...</td>\n",
       "    </tr>\n",
       "    <tr>\n",
       "      <th>105</th>\n",
       "      <td>Tripura</td>\n",
       "      <td>2014-15</td>\n",
       "      <td>109.50</td>\n",
       "      <td>110.49</td>\n",
       "      <td>109.98</td>\n",
       "      <td>118.80</td>\n",
       "      <td>122.38</td>\n",
       "      <td>120.54</td>\n",
       "      <td>119.81</td>\n",
       "      <td>121.36</td>\n",
       "      <td>120.57</td>\n",
       "      <td>46.48</td>\n",
       "      <td>40.05</td>\n",
       "      <td>43.4</td>\n",
       "      <td>351.09</td>\n",
       "    </tr>\n",
       "    <tr>\n",
       "      <th>106</th>\n",
       "      <td>Uttar Pradesh</td>\n",
       "      <td>2014-15</td>\n",
       "      <td>91.54</td>\n",
       "      <td>98.93</td>\n",
       "      <td>95.00</td>\n",
       "      <td>68.14</td>\n",
       "      <td>82.28</td>\n",
       "      <td>74.54</td>\n",
       "      <td>67.85</td>\n",
       "      <td>67.73</td>\n",
       "      <td>67.79</td>\n",
       "      <td>65.36</td>\n",
       "      <td>62.01</td>\n",
       "      <td>63.75</td>\n",
       "      <td>237.33</td>\n",
       "    </tr>\n",
       "    <tr>\n",
       "      <th>107</th>\n",
       "      <td>Uttaranchal</td>\n",
       "      <td>2014-15</td>\n",
       "      <td>100.11</td>\n",
       "      <td>101.02</td>\n",
       "      <td>100.54</td>\n",
       "      <td>84.20</td>\n",
       "      <td>87.03</td>\n",
       "      <td>85.53</td>\n",
       "      <td>90.99</td>\n",
       "      <td>89.65</td>\n",
       "      <td>90.35</td>\n",
       "      <td>79.82</td>\n",
       "      <td>80.95</td>\n",
       "      <td>80.36</td>\n",
       "      <td>276.42</td>\n",
       "    </tr>\n",
       "    <tr>\n",
       "      <th>108</th>\n",
       "      <td>West Bengal</td>\n",
       "      <td>2014-15</td>\n",
       "      <td>101.78</td>\n",
       "      <td>102.91</td>\n",
       "      <td>102.33</td>\n",
       "      <td>96.16</td>\n",
       "      <td>110.67</td>\n",
       "      <td>103.17</td>\n",
       "      <td>70.67</td>\n",
       "      <td>86.05</td>\n",
       "      <td>78.17</td>\n",
       "      <td>48.27</td>\n",
       "      <td>51.82</td>\n",
       "      <td>49.95</td>\n",
       "      <td>283.67</td>\n",
       "    </tr>\n",
       "    <tr>\n",
       "      <th>109</th>\n",
       "      <td>All India</td>\n",
       "      <td>2014-15</td>\n",
       "      <td>98.85</td>\n",
       "      <td>101.43</td>\n",
       "      <td>100.08</td>\n",
       "      <td>87.71</td>\n",
       "      <td>95.29</td>\n",
       "      <td>91.24</td>\n",
       "      <td>78.13</td>\n",
       "      <td>78.94</td>\n",
       "      <td>78.51</td>\n",
       "      <td>54.57</td>\n",
       "      <td>53.81</td>\n",
       "      <td>54.21</td>\n",
       "      <td>269.83</td>\n",
       "    </tr>\n",
       "  </tbody>\n",
       "</table>\n",
       "<p>110 rows × 15 columns</p>\n",
       "</div>"
      ],
      "text/plain": [
       "                      State_UT     Year  Primary_Boys  Primary_Girls  \\\n",
       "0    Andaman & Nicobar Islands  2013-14         95.88          91.97   \n",
       "1               Andhra Pradesh  2013-14         96.62          96.87   \n",
       "2            Arunachal Pradesh  2013-14        129.12         127.77   \n",
       "3                        Assam  2013-14        111.77         115.16   \n",
       "4                        Bihar  2013-14         95.03         101.15   \n",
       "..                         ...      ...           ...            ...   \n",
       "105                    Tripura  2014-15        109.50         110.49   \n",
       "106              Uttar Pradesh  2014-15         91.54          98.93   \n",
       "107                Uttaranchal  2014-15        100.11         101.02   \n",
       "108                West Bengal  2014-15        101.78         102.91   \n",
       "109                  All India  2014-15         98.85         101.43   \n",
       "\n",
       "     Primary_Total  Upper_Primary_Boys  Upper_Primary_Girls  \\\n",
       "0            93.93               94.70                88.98   \n",
       "1            96.74               82.81                84.38   \n",
       "2           128.46              112.64               115.27   \n",
       "3           113.43               87.85                98.69   \n",
       "4            97.96               80.60                94.92   \n",
       "..             ...                 ...                  ...   \n",
       "105         109.98              118.80               122.38   \n",
       "106          95.00               68.14                82.28   \n",
       "107         100.54               84.20                87.03   \n",
       "108         102.33               96.16               110.67   \n",
       "109         100.08               87.71                95.29   \n",
       "\n",
       "     Upper_Primary_Total  Secondary_Boys  Secondary_Girls  Secondary_Total  \\\n",
       "0                  91.83          102.89            97.36           100.16   \n",
       "1                  83.57           73.76            76.77            75.20   \n",
       "2                 113.94           88.37            84.89            86.65   \n",
       "3                  93.13           65.60            77.20            71.21   \n",
       "4                  87.24           57.66            62.96            60.08   \n",
       "..                   ...             ...              ...              ...   \n",
       "105               120.54          119.81           121.36           120.57   \n",
       "106                74.54           67.85            67.73            67.79   \n",
       "107                85.53           90.99            89.65            90.35   \n",
       "108               103.17           70.67            86.05            78.17   \n",
       "109                91.24           78.13            78.94            78.51   \n",
       "\n",
       "    Higher_Secondary_Boys Higher_Secondary_Girls Higher_Secondary_Total  \\\n",
       "0                   105.4                  96.61                 101.28   \n",
       "1                   59.83                  60.83                   60.3   \n",
       "2                   65.16                  65.38                  65.27   \n",
       "3                   31.78                  34.27                  32.94   \n",
       "4                   23.33                  24.17                   23.7   \n",
       "..                    ...                    ...                    ...   \n",
       "105                 46.48                  40.05                   43.4   \n",
       "106                 65.36                  62.01                  63.75   \n",
       "107                 79.82                  80.95                  80.36   \n",
       "108                 48.27                  51.82                  49.95   \n",
       "109                 54.57                  53.81                  54.21   \n",
       "\n",
       "      Total  \n",
       "0    285.92  \n",
       "1    255.51  \n",
       "2    329.05  \n",
       "3    277.77  \n",
       "4    245.28  \n",
       "..      ...  \n",
       "105  351.09  \n",
       "106  237.33  \n",
       "107  276.42  \n",
       "108  283.67  \n",
       "109  269.83  \n",
       "\n",
       "[110 rows x 15 columns]"
      ]
     },
     "execution_count": 45,
     "metadata": {},
     "output_type": "execute_result"
    }
   ],
   "source": [
    "data"
   ]
  },
  {
   "cell_type": "code",
   "execution_count": null,
   "metadata": {},
   "outputs": [
    {
     "data": {
      "application/vnd.plotly.v1+json": {
       "config": {
        "plotlyServerURL": "https://plot.ly"
       },
       "data": [
        {
         "fillpattern": {
          "shape": ""
         },
         "hovertemplate": "State_UT=Andaman & Nicobar Islands<br>Year=%{x}<br>Total=%{y}<extra></extra>",
         "legendgroup": "Andaman & Nicobar Islands",
         "line": {
          "color": "#636efa"
         },
         "marker": {
          "symbol": "circle"
         },
         "mode": "lines",
         "name": "Andaman & Nicobar Islands",
         "orientation": "v",
         "showlegend": true,
         "stackgroup": "1",
         "type": "scatter",
         "x": [
          "2013-14",
          "2015-16",
          "2014-15"
         ],
         "xaxis": "x",
         "y": [
          285.91999999999996,
          259.76,
          271.42
         ],
         "yaxis": "y"
        },
        {
         "fillpattern": {
          "shape": ""
         },
         "hovertemplate": "State_UT=Andhra Pradesh<br>Year=%{x}<br>Total=%{y}<extra></extra>",
         "legendgroup": "Andhra Pradesh",
         "line": {
          "color": "#EF553B"
         },
         "marker": {
          "symbol": "circle"
         },
         "mode": "lines",
         "name": "Andhra Pradesh",
         "orientation": "v",
         "showlegend": true,
         "stackgroup": "1",
         "type": "scatter",
         "x": [
          "2013-14",
          "2015-16",
          "2014-15"
         ],
         "xaxis": "x",
         "y": [
          255.51,
          241.32,
          240.08
         ],
         "yaxis": "y"
        },
        {
         "fillpattern": {
          "shape": ""
         },
         "hovertemplate": "State_UT=Arunachal Pradesh<br>Year=%{x}<br>Total=%{y}<extra></extra>",
         "legendgroup": "Arunachal Pradesh",
         "line": {
          "color": "#00cc96"
         },
         "marker": {
          "symbol": "circle"
         },
         "mode": "lines",
         "name": "Arunachal Pradesh",
         "orientation": "v",
         "showlegend": true,
         "stackgroup": "1",
         "type": "scatter",
         "x": [
          "2013-14",
          "2015-16",
          "2014-15"
         ],
         "xaxis": "x",
         "y": [
          329.05,
          346.52,
          342.28
         ],
         "yaxis": "y"
        },
        {
         "fillpattern": {
          "shape": ""
         },
         "hovertemplate": "State_UT=Assam<br>Year=%{x}<br>Total=%{y}<extra></extra>",
         "legendgroup": "Assam",
         "line": {
          "color": "#ab63fa"
         },
         "marker": {
          "symbol": "circle"
         },
         "mode": "lines",
         "name": "Assam",
         "orientation": "v",
         "showlegend": true,
         "stackgroup": "1",
         "type": "scatter",
         "x": [
          "2013-14",
          "2015-16",
          "2014-15"
         ],
         "xaxis": "x",
         "y": [
          277.77,
          276.75,
          285.6
         ],
         "yaxis": "y"
        },
        {
         "fillpattern": {
          "shape": ""
         },
         "hovertemplate": "State_UT=Bihar<br>Year=%{x}<br>Total=%{y}<extra></extra>",
         "legendgroup": "Bihar",
         "line": {
          "color": "#FFA15A"
         },
         "marker": {
          "symbol": "circle"
         },
         "mode": "lines",
         "name": "Bihar",
         "orientation": "v",
         "showlegend": true,
         "stackgroup": "1",
         "type": "scatter",
         "x": [
          "2013-14",
          "2015-16",
          "2014-15"
         ],
         "xaxis": "x",
         "y": [
          245.27999999999997,
          293.93,
          268.25
         ],
         "yaxis": "y"
        },
        {
         "fillpattern": {
          "shape": ""
         },
         "hovertemplate": "State_UT=Chandigarh<br>Year=%{x}<br>Total=%{y}<extra></extra>",
         "legendgroup": "Chandigarh",
         "line": {
          "color": "#19d3f3"
         },
         "marker": {
          "symbol": "circle"
         },
         "mode": "lines",
         "name": "Chandigarh",
         "orientation": "v",
         "showlegend": true,
         "stackgroup": "1",
         "type": "scatter",
         "x": [
          "2013-14",
          "2015-16",
          "2014-15"
         ],
         "xaxis": "x",
         "y": [
          285.23,
          264.15999999999997,
          275.13
         ],
         "yaxis": "y"
        },
        {
         "fillpattern": {
          "shape": ""
         },
         "hovertemplate": "State_UT=Chhattisgarh<br>Year=%{x}<br>Total=%{y}<extra></extra>",
         "legendgroup": "Chhattisgarh",
         "line": {
          "color": "#FF6692"
         },
         "marker": {
          "symbol": "circle"
         },
         "mode": "lines",
         "name": "Chhattisgarh",
         "orientation": "v",
         "showlegend": true,
         "stackgroup": "1",
         "type": "scatter",
         "x": [
          "2013-14",
          "2015-16",
          "2014-15"
         ],
         "xaxis": "x",
         "y": [
          302.7,
          294.28,
          306.13
         ],
         "yaxis": "y"
        },
        {
         "fillpattern": {
          "shape": ""
         },
         "hovertemplate": "State_UT=Dadra & Nagar Haveli<br>Year=%{x}<br>Total=%{y}<extra></extra>",
         "legendgroup": "Dadra & Nagar Haveli",
         "line": {
          "color": "#B6E880"
         },
         "marker": {
          "symbol": "circle"
         },
         "mode": "lines",
         "name": "Dadra & Nagar Haveli",
         "orientation": "v",
         "showlegend": true,
         "stackgroup": "1",
         "type": "scatter",
         "x": [
          "2013-14",
          "2015-16",
          "2014-15"
         ],
         "xaxis": "x",
         "y": [
          265.65999999999997,
          262.06,
          263.15999999999997
         ],
         "yaxis": "y"
        },
        {
         "fillpattern": {
          "shape": ""
         },
         "hovertemplate": "State_UT=Daman & Diu<br>Year=%{x}<br>Total=%{y}<extra></extra>",
         "legendgroup": "Daman & Diu",
         "line": {
          "color": "#FF97FF"
         },
         "marker": {
          "symbol": "circle"
         },
         "mode": "lines",
         "name": "Daman & Diu",
         "orientation": "v",
         "showlegend": true,
         "stackgroup": "1",
         "type": "scatter",
         "x": [
          "2013-14",
          "2015-16",
          "2014-15"
         ],
         "xaxis": "x",
         "y": [
          249.54,
          234.15,
          244.04
         ],
         "yaxis": "y"
        },
        {
         "fillpattern": {
          "shape": ""
         },
         "hovertemplate": "State_UT=Delhi<br>Year=%{x}<br>Total=%{y}<extra></extra>",
         "legendgroup": "Delhi",
         "line": {
          "color": "#FECB52"
         },
         "marker": {
          "symbol": "circle"
         },
         "mode": "lines",
         "name": "Delhi",
         "orientation": "v",
         "showlegend": true,
         "stackgroup": "1",
         "type": "scatter",
         "x": [
          "2013-14",
          "2015-16",
          "2014-15"
         ],
         "xaxis": "x",
         "y": [
          335.98,
          345.64,
          340.55
         ],
         "yaxis": "y"
        },
        {
         "fillpattern": {
          "shape": ""
         },
         "hovertemplate": "State_UT=Goa<br>Year=%{x}<br>Total=%{y}<extra></extra>",
         "legendgroup": "Goa",
         "line": {
          "color": "#636efa"
         },
         "marker": {
          "symbol": "circle"
         },
         "mode": "lines",
         "name": "Goa",
         "orientation": "v",
         "showlegend": true,
         "stackgroup": "1",
         "type": "scatter",
         "x": [
          "2013-14",
          "2015-16",
          "2014-15"
         ],
         "xaxis": "x",
         "y": [
          317.56,
          305.47,
          317.78999999999996
         ],
         "yaxis": "y"
        },
        {
         "fillpattern": {
          "shape": ""
         },
         "hovertemplate": "State_UT=Gujarat<br>Year=%{x}<br>Total=%{y}<extra></extra>",
         "legendgroup": "Gujarat",
         "line": {
          "color": "#EF553B"
         },
         "marker": {
          "symbol": "circle"
         },
         "mode": "lines",
         "name": "Gujarat",
         "orientation": "v",
         "showlegend": true,
         "stackgroup": "1",
         "type": "scatter",
         "x": [
          "2013-14",
          "2015-16",
          "2014-15"
         ],
         "xaxis": "x",
         "y": [
          266.49,
          267.1,
          266.62
         ],
         "yaxis": "y"
        },
        {
         "fillpattern": {
          "shape": ""
         },
         "hovertemplate": "State_UT=Haryana<br>Year=%{x}<br>Total=%{y}<extra></extra>",
         "legendgroup": "Haryana",
         "line": {
          "color": "#00cc96"
         },
         "marker": {
          "symbol": "circle"
         },
         "mode": "lines",
         "name": "Haryana",
         "orientation": "v",
         "showlegend": true,
         "stackgroup": "1",
         "type": "scatter",
         "x": [
          "2013-14",
          "2015-16",
          "2014-15"
         ],
         "xaxis": "x",
         "y": [
          278.77,
          268.02,
          277.85
         ],
         "yaxis": "y"
        },
        {
         "fillpattern": {
          "shape": ""
         },
         "hovertemplate": "State_UT=Himachal Pradesh<br>Year=%{x}<br>Total=%{y}<extra></extra>",
         "legendgroup": "Himachal Pradesh",
         "line": {
          "color": "#ab63fa"
         },
         "marker": {
          "symbol": "circle"
         },
         "mode": "lines",
         "name": "Himachal Pradesh",
         "orientation": "v",
         "showlegend": true,
         "stackgroup": "1",
         "type": "scatter",
         "x": [
          "2013-14",
          "2015-16",
          "2014-15"
         ],
         "xaxis": "x",
         "y": [
          322.59000000000003,
          310.24,
          318.39
         ],
         "yaxis": "y"
        },
        {
         "fillpattern": {
          "shape": ""
         },
         "hovertemplate": "State_UT=Jammu And Kashmir<br>Year=%{x}<br>Total=%{y}<extra></extra>",
         "legendgroup": "Jammu And Kashmir",
         "line": {
          "color": "#FFA15A"
         },
         "marker": {
          "symbol": "circle"
         },
         "mode": "lines",
         "name": "Jammu And Kashmir",
         "orientation": "v",
         "showlegend": true,
         "stackgroup": "1",
         "type": "scatter",
         "x": [
          "2013-14",
          "2015-16",
          "2014-15"
         ],
         "xaxis": "x",
         "y": [
          223.3,
          222.99,
          223.15000000000003
         ],
         "yaxis": "y"
        },
        {
         "fillpattern": {
          "shape": ""
         },
         "hovertemplate": "State_UT=Jharkhand<br>Year=%{x}<br>Total=%{y}<extra></extra>",
         "legendgroup": "Jharkhand",
         "line": {
          "color": "#19d3f3"
         },
         "marker": {
          "symbol": "circle"
         },
         "mode": "lines",
         "name": "Jharkhand",
         "orientation": "v",
         "showlegend": true,
         "stackgroup": "1",
         "type": "scatter",
         "x": [
          "2013-14",
          "2015-16",
          "2014-15"
         ],
         "xaxis": "x",
         "y": [
          275.62,
          285.6,
          280.23
         ],
         "yaxis": "y"
        },
        {
         "fillpattern": {
          "shape": ""
         },
         "hovertemplate": "State_UT=Karnataka<br>Year=%{x}<br>Total=%{y}<extra></extra>",
         "legendgroup": "Karnataka",
         "line": {
          "color": "#FF6692"
         },
         "marker": {
          "symbol": "circle"
         },
         "mode": "lines",
         "name": "Karnataka",
         "orientation": "v",
         "showlegend": true,
         "stackgroup": "1",
         "type": "scatter",
         "x": [
          "2013-14",
          "2015-16",
          "2014-15"
         ],
         "xaxis": "x",
         "y": [
          270.26,
          279.57000000000005,
          276.84000000000003
         ],
         "yaxis": "y"
        },
        {
         "fillpattern": {
          "shape": ""
         },
         "hovertemplate": "State_UT=Kerala<br>Year=%{x}<br>Total=%{y}<extra></extra>",
         "legendgroup": "Kerala",
         "line": {
          "color": "#B6E880"
         },
         "marker": {
          "symbol": "circle"
         },
         "mode": "lines",
         "name": "Kerala",
         "orientation": "v",
         "showlegend": true,
         "stackgroup": "1",
         "type": "scatter",
         "x": [
          "2013-14",
          "2015-16",
          "2014-15"
         ],
         "xaxis": "x",
         "y": [
          296.27,
          293.27,
          295.24
         ],
         "yaxis": "y"
        },
        {
         "fillpattern": {
          "shape": ""
         },
         "hovertemplate": "State_UT=Lakshadweep<br>Year=%{x}<br>Total=%{y}<extra></extra>",
         "legendgroup": "Lakshadweep",
         "line": {
          "color": "#FF97FF"
         },
         "marker": {
          "symbol": "circle"
         },
         "mode": "lines",
         "name": "Lakshadweep",
         "orientation": "v",
         "showlegend": true,
         "stackgroup": "1",
         "type": "scatter",
         "x": [
          "2013-14",
          "2015-16",
          "2014-15"
         ],
         "xaxis": "x",
         "y": [
          305.29,
          260.72,
          289.42
         ],
         "yaxis": "y"
        },
        {
         "fillpattern": {
          "shape": ""
         },
         "hovertemplate": "State_UT=Madhya Pradesh<br>Year=%{x}<br>Total=%{y}<extra></extra>",
         "legendgroup": "Madhya Pradesh",
         "line": {
          "color": "#FECB52"
         },
         "marker": {
          "symbol": "circle"
         },
         "mode": "lines",
         "name": "Madhya Pradesh",
         "orientation": "v",
         "showlegend": true,
         "stackgroup": "1",
         "type": "scatter",
         "x": [
          "2013-14",
          "2014-15"
         ],
         "xaxis": "x",
         "y": [
          295.51,
          277.92
         ],
         "yaxis": "y"
        },
        {
         "fillpattern": {
          "shape": ""
         },
         "hovertemplate": "State_UT=Maharashtra<br>Year=%{x}<br>Total=%{y}<extra></extra>",
         "legendgroup": "Maharashtra",
         "line": {
          "color": "#636efa"
         },
         "marker": {
          "symbol": "circle"
         },
         "mode": "lines",
         "name": "Maharashtra",
         "orientation": "v",
         "showlegend": true,
         "stackgroup": "1",
         "type": "scatter",
         "x": [
          "2013-14",
          "2015-16",
          "2014-15"
         ],
         "xaxis": "x",
         "y": [
          282.08,
          286.93,
          287.08
         ],
         "yaxis": "y"
        },
        {
         "fillpattern": {
          "shape": ""
         },
         "hovertemplate": "State_UT=Manipur<br>Year=%{x}<br>Total=%{y}<extra></extra>",
         "legendgroup": "Manipur",
         "line": {
          "color": "#EF553B"
         },
         "marker": {
          "symbol": "circle"
         },
         "mode": "lines",
         "name": "Manipur",
         "orientation": "v",
         "showlegend": true,
         "stackgroup": "1",
         "type": "scatter",
         "x": [
          "2013-14",
          "2015-16",
          "2014-15"
         ],
         "xaxis": "x",
         "y": [
          346.76000000000005,
          353.81,
          343.76
         ],
         "yaxis": "y"
        },
        {
         "fillpattern": {
          "shape": ""
         },
         "hovertemplate": "State_UT=Meghalaya<br>Year=%{x}<br>Total=%{y}<extra></extra>",
         "legendgroup": "Meghalaya",
         "line": {
          "color": "#00cc96"
         },
         "marker": {
          "symbol": "circle"
         },
         "mode": "lines",
         "name": "Meghalaya",
         "orientation": "v",
         "showlegend": true,
         "stackgroup": "1",
         "type": "scatter",
         "x": [
          "2013-14",
          "2015-16",
          "2014-15"
         ],
         "xaxis": "x",
         "y": [
          319.12,
          364.05999999999995,
          341.48
         ],
         "yaxis": "y"
        },
        {
         "fillpattern": {
          "shape": ""
         },
         "hovertemplate": "State_UT=Mizoram<br>Year=%{x}<br>Total=%{y}<extra></extra>",
         "legendgroup": "Mizoram",
         "line": {
          "color": "#ab63fa"
         },
         "marker": {
          "symbol": "circle"
         },
         "mode": "lines",
         "name": "Mizoram",
         "orientation": "v",
         "showlegend": true,
         "stackgroup": "1",
         "type": "scatter",
         "x": [
          "2013-14",
          "2015-16",
          "2014-15"
         ],
         "xaxis": "x",
         "y": [
          351.3,
          366.78999999999996,
          357.64
         ],
         "yaxis": "y"
        },
        {
         "fillpattern": {
          "shape": ""
         },
         "hovertemplate": "State_UT=Nagaland<br>Year=%{x}<br>Total=%{y}<extra></extra>",
         "legendgroup": "Nagaland",
         "line": {
          "color": "#FFA15A"
         },
         "marker": {
          "symbol": "circle"
         },
         "mode": "lines",
         "name": "Nagaland",
         "orientation": "v",
         "showlegend": true,
         "stackgroup": "1",
         "type": "scatter",
         "x": [
          "2013-14",
          "2015-16",
          "2014-15"
         ],
         "xaxis": "x",
         "y": [
          289.7,
          273.4,
          262.77
         ],
         "yaxis": "y"
        },
        {
         "fillpattern": {
          "shape": ""
         },
         "hovertemplate": "State_UT=Odisha<br>Year=%{x}<br>Total=%{y}<extra></extra>",
         "legendgroup": "Odisha",
         "line": {
          "color": "#19d3f3"
         },
         "marker": {
          "symbol": "circle"
         },
         "mode": "lines",
         "name": "Odisha",
         "orientation": "v",
         "showlegend": true,
         "stackgroup": "1",
         "type": "scatter",
         "x": [
          "2013-14",
          "2015-16",
          "2014-15"
         ],
         "xaxis": "x",
         "y": [
          266.83000000000004,
          277.6,
          272.72
         ],
         "yaxis": "y"
        },
        {
         "fillpattern": {
          "shape": ""
         },
         "hovertemplate": "State_UT=Pondicherry<br>Year=%{x}<br>Total=%{y}<extra></extra>",
         "legendgroup": "Pondicherry",
         "line": {
          "color": "#FF6692"
         },
         "marker": {
          "symbol": "circle"
         },
         "mode": "lines",
         "name": "Pondicherry",
         "orientation": "v",
         "showlegend": true,
         "stackgroup": "1",
         "type": "scatter",
         "x": [
          "2013-14",
          "2014-15"
         ],
         "xaxis": "x",
         "y": [
          288.38,
          274
         ],
         "yaxis": "y"
        },
        {
         "fillpattern": {
          "shape": ""
         },
         "hovertemplate": "State_UT=Punjab<br>Year=%{x}<br>Total=%{y}<extra></extra>",
         "legendgroup": "Punjab",
         "line": {
          "color": "#B6E880"
         },
         "marker": {
          "symbol": "circle"
         },
         "mode": "lines",
         "name": "Punjab",
         "orientation": "v",
         "showlegend": true,
         "stackgroup": "1",
         "type": "scatter",
         "x": [
          "2013-14",
          "2015-16",
          "2014-15"
         ],
         "xaxis": "x",
         "y": [
          287.34,
          287.14,
          287.47
         ],
         "yaxis": "y"
        },
        {
         "fillpattern": {
          "shape": ""
         },
         "hovertemplate": "State_UT=Rajasthan<br>Year=%{x}<br>Total=%{y}<extra></extra>",
         "legendgroup": "Rajasthan",
         "line": {
          "color": "#FF97FF"
         },
         "marker": {
          "symbol": "circle"
         },
         "mode": "lines",
         "name": "Rajasthan",
         "orientation": "v",
         "showlegend": true,
         "stackgroup": "1",
         "type": "scatter",
         "x": [
          "2013-14",
          "2015-16",
          "2014-15"
         ],
         "xaxis": "x",
         "y": [
          264.79,
          267.83000000000004,
          260.59000000000003
         ],
         "yaxis": "y"
        },
        {
         "fillpattern": {
          "shape": ""
         },
         "hovertemplate": "State_UT=Sikkim<br>Year=%{x}<br>Total=%{y}<extra></extra>",
         "legendgroup": "Sikkim",
         "line": {
          "color": "#FECB52"
         },
         "marker": {
          "symbol": "circle"
         },
         "mode": "lines",
         "name": "Sikkim",
         "orientation": "v",
         "showlegend": true,
         "stackgroup": "1",
         "type": "scatter",
         "x": [
          "2013-14",
          "2015-16",
          "2014-15"
         ],
         "xaxis": "x",
         "y": [
          361.63,
          373.26,
          364.49
         ],
         "yaxis": "y"
        },
        {
         "fillpattern": {
          "shape": ""
         },
         "hovertemplate": "State_UT=Tamil Nadu<br>Year=%{x}<br>Total=%{y}<extra></extra>",
         "legendgroup": "Tamil Nadu",
         "line": {
          "color": "#636efa"
         },
         "marker": {
          "symbol": "circle"
         },
         "mode": "lines",
         "name": "Tamil Nadu",
         "orientation": "v",
         "showlegend": true,
         "stackgroup": "1",
         "type": "scatter",
         "x": [
          "2013-14",
          "2015-16",
          "2014-15"
         ],
         "xaxis": "x",
         "y": [
          293.33,
          291.84000000000003,
          289.58
         ],
         "yaxis": "y"
        },
        {
         "fillpattern": {
          "shape": ""
         },
         "hovertemplate": "State_UT=Tripura<br>Year=%{x}<br>Total=%{y}<extra></extra>",
         "legendgroup": "Tripura",
         "line": {
          "color": "#EF553B"
         },
         "marker": {
          "symbol": "circle"
         },
         "mode": "lines",
         "name": "Tripura",
         "orientation": "v",
         "showlegend": true,
         "stackgroup": "1",
         "type": "scatter",
         "x": [
          "2013-14",
          "2015-16",
          "2014-15"
         ],
         "xaxis": "x",
         "y": [
          344.35,
          354.42,
          351.09000000000003
         ],
         "yaxis": "y"
        },
        {
         "fillpattern": {
          "shape": ""
         },
         "hovertemplate": "State_UT=Uttar Pradesh<br>Year=%{x}<br>Total=%{y}<extra></extra>",
         "legendgroup": "Uttar Pradesh",
         "line": {
          "color": "#00cc96"
         },
         "marker": {
          "symbol": "circle"
         },
         "mode": "lines",
         "name": "Uttar Pradesh",
         "orientation": "v",
         "showlegend": true,
         "stackgroup": "1",
         "type": "scatter",
         "x": [
          "2013-14",
          "2015-16",
          "2014-15"
         ],
         "xaxis": "x",
         "y": [
          235.76,
          234.98000000000002,
          237.33000000000004
         ],
         "yaxis": "y"
        },
        {
         "fillpattern": {
          "shape": ""
         },
         "hovertemplate": "State_UT=Uttaranchal<br>Year=%{x}<br>Total=%{y}<extra></extra>",
         "legendgroup": "Uttaranchal",
         "line": {
          "color": "#ab63fa"
         },
         "marker": {
          "symbol": "circle"
         },
         "mode": "lines",
         "name": "Uttaranchal",
         "orientation": "v",
         "showlegend": true,
         "stackgroup": "1",
         "type": "scatter",
         "x": [
          "2013-14",
          "2014-15"
         ],
         "xaxis": "x",
         "y": [
          275.3,
          276.41999999999996
         ],
         "yaxis": "y"
        },
        {
         "fillpattern": {
          "shape": ""
         },
         "hovertemplate": "State_UT=West Bengal<br>Year=%{x}<br>Total=%{y}<extra></extra>",
         "legendgroup": "West Bengal",
         "line": {
          "color": "#FFA15A"
         },
         "marker": {
          "symbol": "circle"
         },
         "mode": "lines",
         "name": "West Bengal",
         "orientation": "v",
         "showlegend": true,
         "stackgroup": "1",
         "type": "scatter",
         "x": [
          "2013-14",
          "2015-16",
          "2014-15"
         ],
         "xaxis": "x",
         "y": [
          278.46,
          292.24,
          283.67
         ],
         "yaxis": "y"
        },
        {
         "fillpattern": {
          "shape": ""
         },
         "hovertemplate": "State_UT=All India<br>Year=%{x}<br>Total=%{y}<extra></extra>",
         "legendgroup": "All India",
         "line": {
          "color": "#19d3f3"
         },
         "marker": {
          "symbol": "circle"
         },
         "mode": "lines",
         "name": "All India",
         "orientation": "v",
         "showlegend": true,
         "stackgroup": "1",
         "type": "scatter",
         "x": [
          "2013-14",
          "2015-16",
          "2014-15"
         ],
         "xaxis": "x",
         "y": [
          267.33,
          272.03,
          269.83
         ],
         "yaxis": "y"
        },
        {
         "fillpattern": {
          "shape": ""
         },
         "hovertemplate": "State_UT=MADHYA PRADESH<br>Year=%{x}<br>Total=%{y}<extra></extra>",
         "legendgroup": "MADHYA PRADESH",
         "line": {
          "color": "#FF6692"
         },
         "marker": {
          "symbol": "circle"
         },
         "mode": "lines",
         "name": "MADHYA PRADESH",
         "orientation": "v",
         "showlegend": true,
         "stackgroup": "1",
         "type": "scatter",
         "x": [
          "2015-16"
         ],
         "xaxis": "x",
         "y": [
          268.98
         ],
         "yaxis": "y"
        },
        {
         "fillpattern": {
          "shape": ""
         },
         "hovertemplate": "State_UT=Puducherry<br>Year=%{x}<br>Total=%{y}<extra></extra>",
         "legendgroup": "Puducherry",
         "line": {
          "color": "#B6E880"
         },
         "marker": {
          "symbol": "circle"
         },
         "mode": "lines",
         "name": "Puducherry",
         "orientation": "v",
         "showlegend": true,
         "stackgroup": "1",
         "type": "scatter",
         "x": [
          "2015-16"
         ],
         "xaxis": "x",
         "y": [
          260.78000000000003
         ],
         "yaxis": "y"
        },
        {
         "fillpattern": {
          "shape": ""
         },
         "hovertemplate": "State_UT=Telangana<br>Year=%{x}<br>Total=%{y}<extra></extra>",
         "legendgroup": "Telangana",
         "line": {
          "color": "#FF97FF"
         },
         "marker": {
          "symbol": "circle"
         },
         "mode": "lines",
         "name": "Telangana",
         "orientation": "v",
         "showlegend": true,
         "stackgroup": "1",
         "type": "scatter",
         "x": [
          "2015-16",
          "2014-15"
         ],
         "xaxis": "x",
         "y": [
          274.96000000000004,
          276.71
         ],
         "yaxis": "y"
        },
        {
         "fillpattern": {
          "shape": ""
         },
         "hovertemplate": "State_UT=Uttarakhand<br>Year=%{x}<br>Total=%{y}<extra></extra>",
         "legendgroup": "Uttarakhand",
         "line": {
          "color": "#FECB52"
         },
         "marker": {
          "symbol": "circle"
         },
         "mode": "lines",
         "name": "Uttarakhand",
         "orientation": "v",
         "showlegend": true,
         "stackgroup": "1",
         "type": "scatter",
         "x": [
          "2015-16"
         ],
         "xaxis": "x",
         "y": [
          271.9
         ],
         "yaxis": "y"
        }
       ],
       "layout": {
        "legend": {
         "title": {
          "text": "State_UT"
         },
         "tracegroupgap": 0
        },
        "template": {
         "data": {
          "bar": [
           {
            "error_x": {
             "color": "#2a3f5f"
            },
            "error_y": {
             "color": "#2a3f5f"
            },
            "marker": {
             "line": {
              "color": "#E5ECF6",
              "width": 0.5
             },
             "pattern": {
              "fillmode": "overlay",
              "size": 10,
              "solidity": 0.2
             }
            },
            "type": "bar"
           }
          ],
          "barpolar": [
           {
            "marker": {
             "line": {
              "color": "#E5ECF6",
              "width": 0.5
             },
             "pattern": {
              "fillmode": "overlay",
              "size": 10,
              "solidity": 0.2
             }
            },
            "type": "barpolar"
           }
          ],
          "carpet": [
           {
            "aaxis": {
             "endlinecolor": "#2a3f5f",
             "gridcolor": "white",
             "linecolor": "white",
             "minorgridcolor": "white",
             "startlinecolor": "#2a3f5f"
            },
            "baxis": {
             "endlinecolor": "#2a3f5f",
             "gridcolor": "white",
             "linecolor": "white",
             "minorgridcolor": "white",
             "startlinecolor": "#2a3f5f"
            },
            "type": "carpet"
           }
          ],
          "choropleth": [
           {
            "colorbar": {
             "outlinewidth": 0,
             "ticks": ""
            },
            "type": "choropleth"
           }
          ],
          "contour": [
           {
            "colorbar": {
             "outlinewidth": 0,
             "ticks": ""
            },
            "colorscale": [
             [
              0,
              "#0d0887"
             ],
             [
              0.1111111111111111,
              "#46039f"
             ],
             [
              0.2222222222222222,
              "#7201a8"
             ],
             [
              0.3333333333333333,
              "#9c179e"
             ],
             [
              0.4444444444444444,
              "#bd3786"
             ],
             [
              0.5555555555555556,
              "#d8576b"
             ],
             [
              0.6666666666666666,
              "#ed7953"
             ],
             [
              0.7777777777777778,
              "#fb9f3a"
             ],
             [
              0.8888888888888888,
              "#fdca26"
             ],
             [
              1,
              "#f0f921"
             ]
            ],
            "type": "contour"
           }
          ],
          "contourcarpet": [
           {
            "colorbar": {
             "outlinewidth": 0,
             "ticks": ""
            },
            "type": "contourcarpet"
           }
          ],
          "heatmap": [
           {
            "colorbar": {
             "outlinewidth": 0,
             "ticks": ""
            },
            "colorscale": [
             [
              0,
              "#0d0887"
             ],
             [
              0.1111111111111111,
              "#46039f"
             ],
             [
              0.2222222222222222,
              "#7201a8"
             ],
             [
              0.3333333333333333,
              "#9c179e"
             ],
             [
              0.4444444444444444,
              "#bd3786"
             ],
             [
              0.5555555555555556,
              "#d8576b"
             ],
             [
              0.6666666666666666,
              "#ed7953"
             ],
             [
              0.7777777777777778,
              "#fb9f3a"
             ],
             [
              0.8888888888888888,
              "#fdca26"
             ],
             [
              1,
              "#f0f921"
             ]
            ],
            "type": "heatmap"
           }
          ],
          "heatmapgl": [
           {
            "colorbar": {
             "outlinewidth": 0,
             "ticks": ""
            },
            "colorscale": [
             [
              0,
              "#0d0887"
             ],
             [
              0.1111111111111111,
              "#46039f"
             ],
             [
              0.2222222222222222,
              "#7201a8"
             ],
             [
              0.3333333333333333,
              "#9c179e"
             ],
             [
              0.4444444444444444,
              "#bd3786"
             ],
             [
              0.5555555555555556,
              "#d8576b"
             ],
             [
              0.6666666666666666,
              "#ed7953"
             ],
             [
              0.7777777777777778,
              "#fb9f3a"
             ],
             [
              0.8888888888888888,
              "#fdca26"
             ],
             [
              1,
              "#f0f921"
             ]
            ],
            "type": "heatmapgl"
           }
          ],
          "histogram": [
           {
            "marker": {
             "pattern": {
              "fillmode": "overlay",
              "size": 10,
              "solidity": 0.2
             }
            },
            "type": "histogram"
           }
          ],
          "histogram2d": [
           {
            "colorbar": {
             "outlinewidth": 0,
             "ticks": ""
            },
            "colorscale": [
             [
              0,
              "#0d0887"
             ],
             [
              0.1111111111111111,
              "#46039f"
             ],
             [
              0.2222222222222222,
              "#7201a8"
             ],
             [
              0.3333333333333333,
              "#9c179e"
             ],
             [
              0.4444444444444444,
              "#bd3786"
             ],
             [
              0.5555555555555556,
              "#d8576b"
             ],
             [
              0.6666666666666666,
              "#ed7953"
             ],
             [
              0.7777777777777778,
              "#fb9f3a"
             ],
             [
              0.8888888888888888,
              "#fdca26"
             ],
             [
              1,
              "#f0f921"
             ]
            ],
            "type": "histogram2d"
           }
          ],
          "histogram2dcontour": [
           {
            "colorbar": {
             "outlinewidth": 0,
             "ticks": ""
            },
            "colorscale": [
             [
              0,
              "#0d0887"
             ],
             [
              0.1111111111111111,
              "#46039f"
             ],
             [
              0.2222222222222222,
              "#7201a8"
             ],
             [
              0.3333333333333333,
              "#9c179e"
             ],
             [
              0.4444444444444444,
              "#bd3786"
             ],
             [
              0.5555555555555556,
              "#d8576b"
             ],
             [
              0.6666666666666666,
              "#ed7953"
             ],
             [
              0.7777777777777778,
              "#fb9f3a"
             ],
             [
              0.8888888888888888,
              "#fdca26"
             ],
             [
              1,
              "#f0f921"
             ]
            ],
            "type": "histogram2dcontour"
           }
          ],
          "mesh3d": [
           {
            "colorbar": {
             "outlinewidth": 0,
             "ticks": ""
            },
            "type": "mesh3d"
           }
          ],
          "parcoords": [
           {
            "line": {
             "colorbar": {
              "outlinewidth": 0,
              "ticks": ""
             }
            },
            "type": "parcoords"
           }
          ],
          "pie": [
           {
            "automargin": true,
            "type": "pie"
           }
          ],
          "scatter": [
           {
            "fillpattern": {
             "fillmode": "overlay",
             "size": 10,
             "solidity": 0.2
            },
            "type": "scatter"
           }
          ],
          "scatter3d": [
           {
            "line": {
             "colorbar": {
              "outlinewidth": 0,
              "ticks": ""
             }
            },
            "marker": {
             "colorbar": {
              "outlinewidth": 0,
              "ticks": ""
             }
            },
            "type": "scatter3d"
           }
          ],
          "scattercarpet": [
           {
            "marker": {
             "colorbar": {
              "outlinewidth": 0,
              "ticks": ""
             }
            },
            "type": "scattercarpet"
           }
          ],
          "scattergeo": [
           {
            "marker": {
             "colorbar": {
              "outlinewidth": 0,
              "ticks": ""
             }
            },
            "type": "scattergeo"
           }
          ],
          "scattergl": [
           {
            "marker": {
             "colorbar": {
              "outlinewidth": 0,
              "ticks": ""
             }
            },
            "type": "scattergl"
           }
          ],
          "scattermapbox": [
           {
            "marker": {
             "colorbar": {
              "outlinewidth": 0,
              "ticks": ""
             }
            },
            "type": "scattermapbox"
           }
          ],
          "scatterpolar": [
           {
            "marker": {
             "colorbar": {
              "outlinewidth": 0,
              "ticks": ""
             }
            },
            "type": "scatterpolar"
           }
          ],
          "scatterpolargl": [
           {
            "marker": {
             "colorbar": {
              "outlinewidth": 0,
              "ticks": ""
             }
            },
            "type": "scatterpolargl"
           }
          ],
          "scatterternary": [
           {
            "marker": {
             "colorbar": {
              "outlinewidth": 0,
              "ticks": ""
             }
            },
            "type": "scatterternary"
           }
          ],
          "surface": [
           {
            "colorbar": {
             "outlinewidth": 0,
             "ticks": ""
            },
            "colorscale": [
             [
              0,
              "#0d0887"
             ],
             [
              0.1111111111111111,
              "#46039f"
             ],
             [
              0.2222222222222222,
              "#7201a8"
             ],
             [
              0.3333333333333333,
              "#9c179e"
             ],
             [
              0.4444444444444444,
              "#bd3786"
             ],
             [
              0.5555555555555556,
              "#d8576b"
             ],
             [
              0.6666666666666666,
              "#ed7953"
             ],
             [
              0.7777777777777778,
              "#fb9f3a"
             ],
             [
              0.8888888888888888,
              "#fdca26"
             ],
             [
              1,
              "#f0f921"
             ]
            ],
            "type": "surface"
           }
          ],
          "table": [
           {
            "cells": {
             "fill": {
              "color": "#EBF0F8"
             },
             "line": {
              "color": "white"
             }
            },
            "header": {
             "fill": {
              "color": "#C8D4E3"
             },
             "line": {
              "color": "white"
             }
            },
            "type": "table"
           }
          ]
         },
         "layout": {
          "annotationdefaults": {
           "arrowcolor": "#2a3f5f",
           "arrowhead": 0,
           "arrowwidth": 1
          },
          "autotypenumbers": "strict",
          "coloraxis": {
           "colorbar": {
            "outlinewidth": 0,
            "ticks": ""
           }
          },
          "colorscale": {
           "diverging": [
            [
             0,
             "#8e0152"
            ],
            [
             0.1,
             "#c51b7d"
            ],
            [
             0.2,
             "#de77ae"
            ],
            [
             0.3,
             "#f1b6da"
            ],
            [
             0.4,
             "#fde0ef"
            ],
            [
             0.5,
             "#f7f7f7"
            ],
            [
             0.6,
             "#e6f5d0"
            ],
            [
             0.7,
             "#b8e186"
            ],
            [
             0.8,
             "#7fbc41"
            ],
            [
             0.9,
             "#4d9221"
            ],
            [
             1,
             "#276419"
            ]
           ],
           "sequential": [
            [
             0,
             "#0d0887"
            ],
            [
             0.1111111111111111,
             "#46039f"
            ],
            [
             0.2222222222222222,
             "#7201a8"
            ],
            [
             0.3333333333333333,
             "#9c179e"
            ],
            [
             0.4444444444444444,
             "#bd3786"
            ],
            [
             0.5555555555555556,
             "#d8576b"
            ],
            [
             0.6666666666666666,
             "#ed7953"
            ],
            [
             0.7777777777777778,
             "#fb9f3a"
            ],
            [
             0.8888888888888888,
             "#fdca26"
            ],
            [
             1,
             "#f0f921"
            ]
           ],
           "sequentialminus": [
            [
             0,
             "#0d0887"
            ],
            [
             0.1111111111111111,
             "#46039f"
            ],
            [
             0.2222222222222222,
             "#7201a8"
            ],
            [
             0.3333333333333333,
             "#9c179e"
            ],
            [
             0.4444444444444444,
             "#bd3786"
            ],
            [
             0.5555555555555556,
             "#d8576b"
            ],
            [
             0.6666666666666666,
             "#ed7953"
            ],
            [
             0.7777777777777778,
             "#fb9f3a"
            ],
            [
             0.8888888888888888,
             "#fdca26"
            ],
            [
             1,
             "#f0f921"
            ]
           ]
          },
          "colorway": [
           "#636efa",
           "#EF553B",
           "#00cc96",
           "#ab63fa",
           "#FFA15A",
           "#19d3f3",
           "#FF6692",
           "#B6E880",
           "#FF97FF",
           "#FECB52"
          ],
          "font": {
           "color": "#2a3f5f"
          },
          "geo": {
           "bgcolor": "white",
           "lakecolor": "white",
           "landcolor": "#E5ECF6",
           "showlakes": true,
           "showland": true,
           "subunitcolor": "white"
          },
          "hoverlabel": {
           "align": "left"
          },
          "hovermode": "closest",
          "mapbox": {
           "style": "light"
          },
          "paper_bgcolor": "white",
          "plot_bgcolor": "#E5ECF6",
          "polar": {
           "angularaxis": {
            "gridcolor": "white",
            "linecolor": "white",
            "ticks": ""
           },
           "bgcolor": "#E5ECF6",
           "radialaxis": {
            "gridcolor": "white",
            "linecolor": "white",
            "ticks": ""
           }
          },
          "scene": {
           "xaxis": {
            "backgroundcolor": "#E5ECF6",
            "gridcolor": "white",
            "gridwidth": 2,
            "linecolor": "white",
            "showbackground": true,
            "ticks": "",
            "zerolinecolor": "white"
           },
           "yaxis": {
            "backgroundcolor": "#E5ECF6",
            "gridcolor": "white",
            "gridwidth": 2,
            "linecolor": "white",
            "showbackground": true,
            "ticks": "",
            "zerolinecolor": "white"
           },
           "zaxis": {
            "backgroundcolor": "#E5ECF6",
            "gridcolor": "white",
            "gridwidth": 2,
            "linecolor": "white",
            "showbackground": true,
            "ticks": "",
            "zerolinecolor": "white"
           }
          },
          "shapedefaults": {
           "line": {
            "color": "#2a3f5f"
           }
          },
          "ternary": {
           "aaxis": {
            "gridcolor": "white",
            "linecolor": "white",
            "ticks": ""
           },
           "baxis": {
            "gridcolor": "white",
            "linecolor": "white",
            "ticks": ""
           },
           "bgcolor": "#E5ECF6",
           "caxis": {
            "gridcolor": "white",
            "linecolor": "white",
            "ticks": ""
           }
          },
          "title": {
           "x": 0.05
          },
          "xaxis": {
           "automargin": true,
           "gridcolor": "white",
           "linecolor": "white",
           "ticks": "",
           "title": {
            "standoff": 15
           },
           "zerolinecolor": "white",
           "zerolinewidth": 2
          },
          "yaxis": {
           "automargin": true,
           "gridcolor": "white",
           "linecolor": "white",
           "ticks": "",
           "title": {
            "standoff": 15
           },
           "zerolinecolor": "white",
           "zerolinewidth": 2
          }
         }
        },
        "title": {
         "text": " GER by State/UT"
        },
        "xaxis": {
         "anchor": "y",
         "domain": [
          0,
          1
         ],
         "title": {
          "text": "Year"
         }
        },
        "yaxis": {
         "anchor": "x",
         "domain": [
          0,
          1
         ],
         "title": {
          "text": "Total"
         }
        }
       }
      }
     },
     "metadata": {},
     "output_type": "display_data"
    }
   ],
   "source": [
    "px.area(data, x='Year', y='Total', color='State_UT', title=' GER by State/UT')"
   ]
  },
  {
   "cell_type": "code",
   "execution_count": null,
   "metadata": {},
   "outputs": [
    {
     "data": {
      "text/plain": [
       "RangeIndex(start=0, stop=110, step=1)"
      ]
     },
     "execution_count": 17,
     "metadata": {},
     "output_type": "execute_result"
    }
   ],
   "source": [
    "data.index\n"
   ]
  },
  {
   "cell_type": "code",
   "execution_count": null,
   "metadata": {},
   "outputs": [
    {
     "data": {
      "text/plain": [
       "Index(['State_UT', 'Year', 'Primary_Boys', 'Primary_Girls', 'Primary_Total',\n",
       "       'Upper_Primary_Boys', 'Upper_Primary_Girls', 'Upper_Primary_Total',\n",
       "       'Secondary_Boys', 'Secondary_Girls', 'Secondary_Total',\n",
       "       'Higher_Secondary_Boys', 'Higher_Secondary_Girls',\n",
       "       'Higher_Secondary_Total', 'Total'],\n",
       "      dtype='object')"
      ]
     },
     "execution_count": 48,
     "metadata": {},
     "output_type": "execute_result"
    }
   ],
   "source": [
    "data.columns"
   ]
  },
  {
   "cell_type": "code",
   "execution_count": null,
   "metadata": {},
   "outputs": [
    {
     "data": {
      "application/vnd.plotly.v1+json": {
       "config": {
        "plotlyServerURL": "https://plot.ly"
       },
       "data": [
        {
         "colorscale": [
          [
           0,
           "#636efa"
          ],
          [
           1,
           "#636efa"
          ]
         ],
         "geo": "geo",
         "hovertemplate": "Year=2013-14<br>index=%{location}<extra></extra>",
         "locationmode": "country names",
         "locations": [
          0,
          1,
          2,
          3,
          4,
          5,
          6,
          7,
          8,
          9,
          10,
          11,
          12,
          13,
          14,
          15,
          16,
          17,
          18,
          19,
          20,
          21,
          22,
          23,
          24,
          25,
          26,
          27,
          28,
          29,
          30,
          31,
          32,
          33,
          34,
          35
         ],
         "name": "2013-14",
         "showlegend": true,
         "showscale": false,
         "type": "choropleth",
         "z": [
          1,
          1,
          1,
          1,
          1,
          1,
          1,
          1,
          1,
          1,
          1,
          1,
          1,
          1,
          1,
          1,
          1,
          1,
          1,
          1,
          1,
          1,
          1,
          1,
          1,
          1,
          1,
          1,
          1,
          1,
          1,
          1,
          1,
          1,
          1,
          1
         ]
        },
        {
         "colorscale": [
          [
           0,
           "#EF553B"
          ],
          [
           1,
           "#EF553B"
          ]
         ],
         "geo": "geo",
         "hovertemplate": "Year=2015-16<br>index=%{location}<extra></extra>",
         "locationmode": "country names",
         "locations": [
          36,
          37,
          38,
          39,
          40,
          41,
          42,
          43,
          44,
          45,
          46,
          47,
          48,
          49,
          50,
          51,
          52,
          53,
          54,
          55,
          56,
          57,
          58,
          59,
          60,
          61,
          62,
          63,
          64,
          65,
          66,
          67,
          68,
          69,
          70,
          71,
          72
         ],
         "name": "2015-16",
         "showlegend": true,
         "showscale": false,
         "type": "choropleth",
         "z": [
          1,
          1,
          1,
          1,
          1,
          1,
          1,
          1,
          1,
          1,
          1,
          1,
          1,
          1,
          1,
          1,
          1,
          1,
          1,
          1,
          1,
          1,
          1,
          1,
          1,
          1,
          1,
          1,
          1,
          1,
          1,
          1,
          1,
          1,
          1,
          1,
          1
         ]
        },
        {
         "colorscale": [
          [
           0,
           "#00cc96"
          ],
          [
           1,
           "#00cc96"
          ]
         ],
         "geo": "geo",
         "hovertemplate": "Year=2014-15<br>index=%{location}<extra></extra>",
         "locationmode": "country names",
         "locations": [
          73,
          74,
          75,
          76,
          77,
          78,
          79,
          80,
          81,
          82,
          83,
          84,
          85,
          86,
          87,
          88,
          89,
          90,
          91,
          92,
          93,
          94,
          95,
          96,
          97,
          98,
          99,
          100,
          101,
          102,
          103,
          104,
          105,
          106,
          107,
          108,
          109
         ],
         "name": "2014-15",
         "showlegend": true,
         "showscale": false,
         "type": "choropleth",
         "z": [
          1,
          1,
          1,
          1,
          1,
          1,
          1,
          1,
          1,
          1,
          1,
          1,
          1,
          1,
          1,
          1,
          1,
          1,
          1,
          1,
          1,
          1,
          1,
          1,
          1,
          1,
          1,
          1,
          1,
          1,
          1,
          1,
          1,
          1,
          1,
          1,
          1
         ]
        }
       ],
       "layout": {
        "geo": {
         "center": {},
         "domain": {
          "x": [
           0,
           1
          ],
          "y": [
           0,
           1
          ]
         },
         "projection": {
          "type": "mercator"
         }
        },
        "legend": {
         "title": {
          "text": "Year"
         },
         "tracegroupgap": 0
        },
        "margin": {
         "t": 60
        },
        "template": {
         "data": {
          "bar": [
           {
            "error_x": {
             "color": "#2a3f5f"
            },
            "error_y": {
             "color": "#2a3f5f"
            },
            "marker": {
             "line": {
              "color": "#E5ECF6",
              "width": 0.5
             },
             "pattern": {
              "fillmode": "overlay",
              "size": 10,
              "solidity": 0.2
             }
            },
            "type": "bar"
           }
          ],
          "barpolar": [
           {
            "marker": {
             "line": {
              "color": "#E5ECF6",
              "width": 0.5
             },
             "pattern": {
              "fillmode": "overlay",
              "size": 10,
              "solidity": 0.2
             }
            },
            "type": "barpolar"
           }
          ],
          "carpet": [
           {
            "aaxis": {
             "endlinecolor": "#2a3f5f",
             "gridcolor": "white",
             "linecolor": "white",
             "minorgridcolor": "white",
             "startlinecolor": "#2a3f5f"
            },
            "baxis": {
             "endlinecolor": "#2a3f5f",
             "gridcolor": "white",
             "linecolor": "white",
             "minorgridcolor": "white",
             "startlinecolor": "#2a3f5f"
            },
            "type": "carpet"
           }
          ],
          "choropleth": [
           {
            "colorbar": {
             "outlinewidth": 0,
             "ticks": ""
            },
            "type": "choropleth"
           }
          ],
          "contour": [
           {
            "colorbar": {
             "outlinewidth": 0,
             "ticks": ""
            },
            "colorscale": [
             [
              0,
              "#0d0887"
             ],
             [
              0.1111111111111111,
              "#46039f"
             ],
             [
              0.2222222222222222,
              "#7201a8"
             ],
             [
              0.3333333333333333,
              "#9c179e"
             ],
             [
              0.4444444444444444,
              "#bd3786"
             ],
             [
              0.5555555555555556,
              "#d8576b"
             ],
             [
              0.6666666666666666,
              "#ed7953"
             ],
             [
              0.7777777777777778,
              "#fb9f3a"
             ],
             [
              0.8888888888888888,
              "#fdca26"
             ],
             [
              1,
              "#f0f921"
             ]
            ],
            "type": "contour"
           }
          ],
          "contourcarpet": [
           {
            "colorbar": {
             "outlinewidth": 0,
             "ticks": ""
            },
            "type": "contourcarpet"
           }
          ],
          "heatmap": [
           {
            "colorbar": {
             "outlinewidth": 0,
             "ticks": ""
            },
            "colorscale": [
             [
              0,
              "#0d0887"
             ],
             [
              0.1111111111111111,
              "#46039f"
             ],
             [
              0.2222222222222222,
              "#7201a8"
             ],
             [
              0.3333333333333333,
              "#9c179e"
             ],
             [
              0.4444444444444444,
              "#bd3786"
             ],
             [
              0.5555555555555556,
              "#d8576b"
             ],
             [
              0.6666666666666666,
              "#ed7953"
             ],
             [
              0.7777777777777778,
              "#fb9f3a"
             ],
             [
              0.8888888888888888,
              "#fdca26"
             ],
             [
              1,
              "#f0f921"
             ]
            ],
            "type": "heatmap"
           }
          ],
          "heatmapgl": [
           {
            "colorbar": {
             "outlinewidth": 0,
             "ticks": ""
            },
            "colorscale": [
             [
              0,
              "#0d0887"
             ],
             [
              0.1111111111111111,
              "#46039f"
             ],
             [
              0.2222222222222222,
              "#7201a8"
             ],
             [
              0.3333333333333333,
              "#9c179e"
             ],
             [
              0.4444444444444444,
              "#bd3786"
             ],
             [
              0.5555555555555556,
              "#d8576b"
             ],
             [
              0.6666666666666666,
              "#ed7953"
             ],
             [
              0.7777777777777778,
              "#fb9f3a"
             ],
             [
              0.8888888888888888,
              "#fdca26"
             ],
             [
              1,
              "#f0f921"
             ]
            ],
            "type": "heatmapgl"
           }
          ],
          "histogram": [
           {
            "marker": {
             "pattern": {
              "fillmode": "overlay",
              "size": 10,
              "solidity": 0.2
             }
            },
            "type": "histogram"
           }
          ],
          "histogram2d": [
           {
            "colorbar": {
             "outlinewidth": 0,
             "ticks": ""
            },
            "colorscale": [
             [
              0,
              "#0d0887"
             ],
             [
              0.1111111111111111,
              "#46039f"
             ],
             [
              0.2222222222222222,
              "#7201a8"
             ],
             [
              0.3333333333333333,
              "#9c179e"
             ],
             [
              0.4444444444444444,
              "#bd3786"
             ],
             [
              0.5555555555555556,
              "#d8576b"
             ],
             [
              0.6666666666666666,
              "#ed7953"
             ],
             [
              0.7777777777777778,
              "#fb9f3a"
             ],
             [
              0.8888888888888888,
              "#fdca26"
             ],
             [
              1,
              "#f0f921"
             ]
            ],
            "type": "histogram2d"
           }
          ],
          "histogram2dcontour": [
           {
            "colorbar": {
             "outlinewidth": 0,
             "ticks": ""
            },
            "colorscale": [
             [
              0,
              "#0d0887"
             ],
             [
              0.1111111111111111,
              "#46039f"
             ],
             [
              0.2222222222222222,
              "#7201a8"
             ],
             [
              0.3333333333333333,
              "#9c179e"
             ],
             [
              0.4444444444444444,
              "#bd3786"
             ],
             [
              0.5555555555555556,
              "#d8576b"
             ],
             [
              0.6666666666666666,
              "#ed7953"
             ],
             [
              0.7777777777777778,
              "#fb9f3a"
             ],
             [
              0.8888888888888888,
              "#fdca26"
             ],
             [
              1,
              "#f0f921"
             ]
            ],
            "type": "histogram2dcontour"
           }
          ],
          "mesh3d": [
           {
            "colorbar": {
             "outlinewidth": 0,
             "ticks": ""
            },
            "type": "mesh3d"
           }
          ],
          "parcoords": [
           {
            "line": {
             "colorbar": {
              "outlinewidth": 0,
              "ticks": ""
             }
            },
            "type": "parcoords"
           }
          ],
          "pie": [
           {
            "automargin": true,
            "type": "pie"
           }
          ],
          "scatter": [
           {
            "fillpattern": {
             "fillmode": "overlay",
             "size": 10,
             "solidity": 0.2
            },
            "type": "scatter"
           }
          ],
          "scatter3d": [
           {
            "line": {
             "colorbar": {
              "outlinewidth": 0,
              "ticks": ""
             }
            },
            "marker": {
             "colorbar": {
              "outlinewidth": 0,
              "ticks": ""
             }
            },
            "type": "scatter3d"
           }
          ],
          "scattercarpet": [
           {
            "marker": {
             "colorbar": {
              "outlinewidth": 0,
              "ticks": ""
             }
            },
            "type": "scattercarpet"
           }
          ],
          "scattergeo": [
           {
            "marker": {
             "colorbar": {
              "outlinewidth": 0,
              "ticks": ""
             }
            },
            "type": "scattergeo"
           }
          ],
          "scattergl": [
           {
            "marker": {
             "colorbar": {
              "outlinewidth": 0,
              "ticks": ""
             }
            },
            "type": "scattergl"
           }
          ],
          "scattermapbox": [
           {
            "marker": {
             "colorbar": {
              "outlinewidth": 0,
              "ticks": ""
             }
            },
            "type": "scattermapbox"
           }
          ],
          "scatterpolar": [
           {
            "marker": {
             "colorbar": {
              "outlinewidth": 0,
              "ticks": ""
             }
            },
            "type": "scatterpolar"
           }
          ],
          "scatterpolargl": [
           {
            "marker": {
             "colorbar": {
              "outlinewidth": 0,
              "ticks": ""
             }
            },
            "type": "scatterpolargl"
           }
          ],
          "scatterternary": [
           {
            "marker": {
             "colorbar": {
              "outlinewidth": 0,
              "ticks": ""
             }
            },
            "type": "scatterternary"
           }
          ],
          "surface": [
           {
            "colorbar": {
             "outlinewidth": 0,
             "ticks": ""
            },
            "colorscale": [
             [
              0,
              "#0d0887"
             ],
             [
              0.1111111111111111,
              "#46039f"
             ],
             [
              0.2222222222222222,
              "#7201a8"
             ],
             [
              0.3333333333333333,
              "#9c179e"
             ],
             [
              0.4444444444444444,
              "#bd3786"
             ],
             [
              0.5555555555555556,
              "#d8576b"
             ],
             [
              0.6666666666666666,
              "#ed7953"
             ],
             [
              0.7777777777777778,
              "#fb9f3a"
             ],
             [
              0.8888888888888888,
              "#fdca26"
             ],
             [
              1,
              "#f0f921"
             ]
            ],
            "type": "surface"
           }
          ],
          "table": [
           {
            "cells": {
             "fill": {
              "color": "#EBF0F8"
             },
             "line": {
              "color": "white"
             }
            },
            "header": {
             "fill": {
              "color": "#C8D4E3"
             },
             "line": {
              "color": "white"
             }
            },
            "type": "table"
           }
          ]
         },
         "layout": {
          "annotationdefaults": {
           "arrowcolor": "#2a3f5f",
           "arrowhead": 0,
           "arrowwidth": 1
          },
          "autotypenumbers": "strict",
          "coloraxis": {
           "colorbar": {
            "outlinewidth": 0,
            "ticks": ""
           }
          },
          "colorscale": {
           "diverging": [
            [
             0,
             "#8e0152"
            ],
            [
             0.1,
             "#c51b7d"
            ],
            [
             0.2,
             "#de77ae"
            ],
            [
             0.3,
             "#f1b6da"
            ],
            [
             0.4,
             "#fde0ef"
            ],
            [
             0.5,
             "#f7f7f7"
            ],
            [
             0.6,
             "#e6f5d0"
            ],
            [
             0.7,
             "#b8e186"
            ],
            [
             0.8,
             "#7fbc41"
            ],
            [
             0.9,
             "#4d9221"
            ],
            [
             1,
             "#276419"
            ]
           ],
           "sequential": [
            [
             0,
             "#0d0887"
            ],
            [
             0.1111111111111111,
             "#46039f"
            ],
            [
             0.2222222222222222,
             "#7201a8"
            ],
            [
             0.3333333333333333,
             "#9c179e"
            ],
            [
             0.4444444444444444,
             "#bd3786"
            ],
            [
             0.5555555555555556,
             "#d8576b"
            ],
            [
             0.6666666666666666,
             "#ed7953"
            ],
            [
             0.7777777777777778,
             "#fb9f3a"
            ],
            [
             0.8888888888888888,
             "#fdca26"
            ],
            [
             1,
             "#f0f921"
            ]
           ],
           "sequentialminus": [
            [
             0,
             "#0d0887"
            ],
            [
             0.1111111111111111,
             "#46039f"
            ],
            [
             0.2222222222222222,
             "#7201a8"
            ],
            [
             0.3333333333333333,
             "#9c179e"
            ],
            [
             0.4444444444444444,
             "#bd3786"
            ],
            [
             0.5555555555555556,
             "#d8576b"
            ],
            [
             0.6666666666666666,
             "#ed7953"
            ],
            [
             0.7777777777777778,
             "#fb9f3a"
            ],
            [
             0.8888888888888888,
             "#fdca26"
            ],
            [
             1,
             "#f0f921"
            ]
           ]
          },
          "colorway": [
           "#636efa",
           "#EF553B",
           "#00cc96",
           "#ab63fa",
           "#FFA15A",
           "#19d3f3",
           "#FF6692",
           "#B6E880",
           "#FF97FF",
           "#FECB52"
          ],
          "font": {
           "color": "#2a3f5f"
          },
          "geo": {
           "bgcolor": "white",
           "lakecolor": "white",
           "landcolor": "#E5ECF6",
           "showlakes": true,
           "showland": true,
           "subunitcolor": "white"
          },
          "hoverlabel": {
           "align": "left"
          },
          "hovermode": "closest",
          "mapbox": {
           "style": "light"
          },
          "paper_bgcolor": "white",
          "plot_bgcolor": "#E5ECF6",
          "polar": {
           "angularaxis": {
            "gridcolor": "white",
            "linecolor": "white",
            "ticks": ""
           },
           "bgcolor": "#E5ECF6",
           "radialaxis": {
            "gridcolor": "white",
            "linecolor": "white",
            "ticks": ""
           }
          },
          "scene": {
           "xaxis": {
            "backgroundcolor": "#E5ECF6",
            "gridcolor": "white",
            "gridwidth": 2,
            "linecolor": "white",
            "showbackground": true,
            "ticks": "",
            "zerolinecolor": "white"
           },
           "yaxis": {
            "backgroundcolor": "#E5ECF6",
            "gridcolor": "white",
            "gridwidth": 2,
            "linecolor": "white",
            "showbackground": true,
            "ticks": "",
            "zerolinecolor": "white"
           },
           "zaxis": {
            "backgroundcolor": "#E5ECF6",
            "gridcolor": "white",
            "gridwidth": 2,
            "linecolor": "white",
            "showbackground": true,
            "ticks": "",
            "zerolinecolor": "white"
           }
          },
          "shapedefaults": {
           "line": {
            "color": "#2a3f5f"
           }
          },
          "ternary": {
           "aaxis": {
            "gridcolor": "white",
            "linecolor": "white",
            "ticks": ""
           },
           "baxis": {
            "gridcolor": "white",
            "linecolor": "white",
            "ticks": ""
           },
           "bgcolor": "#E5ECF6",
           "caxis": {
            "gridcolor": "white",
            "linecolor": "white",
            "ticks": ""
           }
          },
          "title": {
           "x": 0.05
          },
          "xaxis": {
           "automargin": true,
           "gridcolor": "white",
           "linecolor": "white",
           "ticks": "",
           "title": {
            "standoff": 15
           },
           "zerolinecolor": "white",
           "zerolinewidth": 2
          },
          "yaxis": {
           "automargin": true,
           "gridcolor": "white",
           "linecolor": "white",
           "ticks": "",
           "title": {
            "standoff": 15
           },
           "zerolinecolor": "white",
           "zerolinewidth": 2
          }
         }
        }
       }
      }
     },
     "metadata": {},
     "output_type": "display_data"
    }
   ],
   "source": [
    "px.choropleth(\n",
    "    data_frame=data,\n",
    "    locations=data.index,\n",
    "    locationmode='country names',\n",
    "    color='Year',\n",
    "    projection='mercator',\n",
    ")"
   ]
  },
  {
   "cell_type": "code",
   "execution_count": null,
   "metadata": {},
   "outputs": [
    {
     "data": {
      "application/vnd.plotly.v1+json": {
       "config": {
        "plotlyServerURL": "https://plot.ly"
       },
       "data": [
        {
         "colorscale": [
          [
           0,
           "#636efa"
          ],
          [
           1,
           "#636efa"
          ]
         ],
         "featureidkey": "properties.NAME_1",
         "geo": "geo",
         "geojson": "india_state.geojson",
         "hovertemplate": "Year=2013-14<br>State_UT=%{location}<extra></extra>",
         "locations": [
          "Andaman & Nicobar Islands",
          "Andhra Pradesh",
          "Arunachal Pradesh",
          "Assam",
          "Bihar",
          "Chandigarh",
          "Chhattisgarh",
          "Dadra & Nagar Haveli",
          "Daman & Diu",
          "Delhi",
          "Goa",
          "Gujarat",
          "Haryana",
          "Himachal Pradesh",
          "Jammu And Kashmir",
          "Jharkhand",
          "Karnataka",
          "Kerala",
          "Lakshadweep",
          "Madhya Pradesh",
          "Maharashtra",
          "Manipur",
          "Meghalaya",
          "Mizoram",
          "Nagaland",
          "Odisha",
          "Pondicherry",
          "Punjab",
          "Rajasthan",
          "Sikkim",
          "Tamil Nadu",
          "Tripura",
          "Uttar Pradesh",
          "Uttaranchal",
          "West Bengal",
          "All India"
         ],
         "name": "2013-14",
         "showlegend": true,
         "showscale": false,
         "type": "choropleth",
         "z": [
          1,
          1,
          1,
          1,
          1,
          1,
          1,
          1,
          1,
          1,
          1,
          1,
          1,
          1,
          1,
          1,
          1,
          1,
          1,
          1,
          1,
          1,
          1,
          1,
          1,
          1,
          1,
          1,
          1,
          1,
          1,
          1,
          1,
          1,
          1,
          1
         ]
        },
        {
         "colorscale": [
          [
           0,
           "#EF553B"
          ],
          [
           1,
           "#EF553B"
          ]
         ],
         "featureidkey": "properties.NAME_1",
         "geo": "geo",
         "geojson": "india_state.geojson",
         "hovertemplate": "Year=2015-16<br>State_UT=%{location}<extra></extra>",
         "locations": [
          "Andaman & Nicobar Islands",
          "Andhra Pradesh",
          "Arunachal Pradesh",
          "Assam",
          "Bihar",
          "Chandigarh",
          "Chhattisgarh",
          "Dadra & Nagar Haveli",
          "Daman & Diu",
          "Delhi",
          "Goa",
          "Gujarat",
          "Haryana",
          "Himachal Pradesh",
          "Jammu And Kashmir",
          "Jharkhand",
          "Karnataka",
          "Kerala",
          "Lakshadweep",
          "MADHYA PRADESH",
          "Maharashtra",
          "Manipur",
          "Meghalaya",
          "Mizoram",
          "Nagaland",
          "Odisha",
          "Puducherry",
          "Punjab",
          "Rajasthan",
          "Sikkim",
          "Tamil Nadu",
          "Telangana",
          "Tripura",
          "Uttar Pradesh",
          "Uttarakhand",
          "West Bengal",
          "All India"
         ],
         "name": "2015-16",
         "showlegend": true,
         "showscale": false,
         "type": "choropleth",
         "z": [
          1,
          1,
          1,
          1,
          1,
          1,
          1,
          1,
          1,
          1,
          1,
          1,
          1,
          1,
          1,
          1,
          1,
          1,
          1,
          1,
          1,
          1,
          1,
          1,
          1,
          1,
          1,
          1,
          1,
          1,
          1,
          1,
          1,
          1,
          1,
          1,
          1
         ]
        },
        {
         "colorscale": [
          [
           0,
           "#00cc96"
          ],
          [
           1,
           "#00cc96"
          ]
         ],
         "featureidkey": "properties.NAME_1",
         "geo": "geo",
         "geojson": "india_state.geojson",
         "hovertemplate": "Year=2014-15<br>State_UT=%{location}<extra></extra>",
         "locations": [
          "Andaman & Nicobar Islands",
          "Andhra Pradesh",
          "Arunachal Pradesh",
          "Assam",
          "Bihar",
          "Chandigarh",
          "Chhattisgarh",
          "Dadra & Nagar Haveli",
          "Daman & Diu",
          "Delhi",
          "Goa",
          "Gujarat",
          "Haryana",
          "Himachal Pradesh",
          "Jammu And Kashmir",
          "Jharkhand",
          "Karnataka",
          "Kerala",
          "Lakshadweep",
          "Madhya Pradesh",
          "Maharashtra",
          "Manipur",
          "Meghalaya",
          "Mizoram",
          "Nagaland",
          "Odisha",
          "Pondicherry",
          "Punjab",
          "Rajasthan",
          "Sikkim",
          "Tamil Nadu",
          "Telangana",
          "Tripura",
          "Uttar Pradesh",
          "Uttaranchal",
          "West Bengal",
          "All India"
         ],
         "name": "2014-15",
         "showlegend": true,
         "showscale": false,
         "type": "choropleth",
         "z": [
          1,
          1,
          1,
          1,
          1,
          1,
          1,
          1,
          1,
          1,
          1,
          1,
          1,
          1,
          1,
          1,
          1,
          1,
          1,
          1,
          1,
          1,
          1,
          1,
          1,
          1,
          1,
          1,
          1,
          1,
          1,
          1,
          1,
          1,
          1,
          1,
          1
         ]
        }
       ],
       "layout": {
        "geo": {
         "center": {},
         "domain": {
          "x": [
           0,
           1
          ],
          "y": [
           0,
           1
          ]
         },
         "fitbounds": "locations",
         "projection": {
          "type": "mercator"
         },
         "visible": false
        },
        "legend": {
         "title": {
          "text": "Year"
         },
         "tracegroupgap": 0
        },
        "margin": {
         "t": 60
        },
        "template": {
         "data": {
          "bar": [
           {
            "error_x": {
             "color": "#2a3f5f"
            },
            "error_y": {
             "color": "#2a3f5f"
            },
            "marker": {
             "line": {
              "color": "#E5ECF6",
              "width": 0.5
             },
             "pattern": {
              "fillmode": "overlay",
              "size": 10,
              "solidity": 0.2
             }
            },
            "type": "bar"
           }
          ],
          "barpolar": [
           {
            "marker": {
             "line": {
              "color": "#E5ECF6",
              "width": 0.5
             },
             "pattern": {
              "fillmode": "overlay",
              "size": 10,
              "solidity": 0.2
             }
            },
            "type": "barpolar"
           }
          ],
          "carpet": [
           {
            "aaxis": {
             "endlinecolor": "#2a3f5f",
             "gridcolor": "white",
             "linecolor": "white",
             "minorgridcolor": "white",
             "startlinecolor": "#2a3f5f"
            },
            "baxis": {
             "endlinecolor": "#2a3f5f",
             "gridcolor": "white",
             "linecolor": "white",
             "minorgridcolor": "white",
             "startlinecolor": "#2a3f5f"
            },
            "type": "carpet"
           }
          ],
          "choropleth": [
           {
            "colorbar": {
             "outlinewidth": 0,
             "ticks": ""
            },
            "type": "choropleth"
           }
          ],
          "contour": [
           {
            "colorbar": {
             "outlinewidth": 0,
             "ticks": ""
            },
            "colorscale": [
             [
              0,
              "#0d0887"
             ],
             [
              0.1111111111111111,
              "#46039f"
             ],
             [
              0.2222222222222222,
              "#7201a8"
             ],
             [
              0.3333333333333333,
              "#9c179e"
             ],
             [
              0.4444444444444444,
              "#bd3786"
             ],
             [
              0.5555555555555556,
              "#d8576b"
             ],
             [
              0.6666666666666666,
              "#ed7953"
             ],
             [
              0.7777777777777778,
              "#fb9f3a"
             ],
             [
              0.8888888888888888,
              "#fdca26"
             ],
             [
              1,
              "#f0f921"
             ]
            ],
            "type": "contour"
           }
          ],
          "contourcarpet": [
           {
            "colorbar": {
             "outlinewidth": 0,
             "ticks": ""
            },
            "type": "contourcarpet"
           }
          ],
          "heatmap": [
           {
            "colorbar": {
             "outlinewidth": 0,
             "ticks": ""
            },
            "colorscale": [
             [
              0,
              "#0d0887"
             ],
             [
              0.1111111111111111,
              "#46039f"
             ],
             [
              0.2222222222222222,
              "#7201a8"
             ],
             [
              0.3333333333333333,
              "#9c179e"
             ],
             [
              0.4444444444444444,
              "#bd3786"
             ],
             [
              0.5555555555555556,
              "#d8576b"
             ],
             [
              0.6666666666666666,
              "#ed7953"
             ],
             [
              0.7777777777777778,
              "#fb9f3a"
             ],
             [
              0.8888888888888888,
              "#fdca26"
             ],
             [
              1,
              "#f0f921"
             ]
            ],
            "type": "heatmap"
           }
          ],
          "heatmapgl": [
           {
            "colorbar": {
             "outlinewidth": 0,
             "ticks": ""
            },
            "colorscale": [
             [
              0,
              "#0d0887"
             ],
             [
              0.1111111111111111,
              "#46039f"
             ],
             [
              0.2222222222222222,
              "#7201a8"
             ],
             [
              0.3333333333333333,
              "#9c179e"
             ],
             [
              0.4444444444444444,
              "#bd3786"
             ],
             [
              0.5555555555555556,
              "#d8576b"
             ],
             [
              0.6666666666666666,
              "#ed7953"
             ],
             [
              0.7777777777777778,
              "#fb9f3a"
             ],
             [
              0.8888888888888888,
              "#fdca26"
             ],
             [
              1,
              "#f0f921"
             ]
            ],
            "type": "heatmapgl"
           }
          ],
          "histogram": [
           {
            "marker": {
             "pattern": {
              "fillmode": "overlay",
              "size": 10,
              "solidity": 0.2
             }
            },
            "type": "histogram"
           }
          ],
          "histogram2d": [
           {
            "colorbar": {
             "outlinewidth": 0,
             "ticks": ""
            },
            "colorscale": [
             [
              0,
              "#0d0887"
             ],
             [
              0.1111111111111111,
              "#46039f"
             ],
             [
              0.2222222222222222,
              "#7201a8"
             ],
             [
              0.3333333333333333,
              "#9c179e"
             ],
             [
              0.4444444444444444,
              "#bd3786"
             ],
             [
              0.5555555555555556,
              "#d8576b"
             ],
             [
              0.6666666666666666,
              "#ed7953"
             ],
             [
              0.7777777777777778,
              "#fb9f3a"
             ],
             [
              0.8888888888888888,
              "#fdca26"
             ],
             [
              1,
              "#f0f921"
             ]
            ],
            "type": "histogram2d"
           }
          ],
          "histogram2dcontour": [
           {
            "colorbar": {
             "outlinewidth": 0,
             "ticks": ""
            },
            "colorscale": [
             [
              0,
              "#0d0887"
             ],
             [
              0.1111111111111111,
              "#46039f"
             ],
             [
              0.2222222222222222,
              "#7201a8"
             ],
             [
              0.3333333333333333,
              "#9c179e"
             ],
             [
              0.4444444444444444,
              "#bd3786"
             ],
             [
              0.5555555555555556,
              "#d8576b"
             ],
             [
              0.6666666666666666,
              "#ed7953"
             ],
             [
              0.7777777777777778,
              "#fb9f3a"
             ],
             [
              0.8888888888888888,
              "#fdca26"
             ],
             [
              1,
              "#f0f921"
             ]
            ],
            "type": "histogram2dcontour"
           }
          ],
          "mesh3d": [
           {
            "colorbar": {
             "outlinewidth": 0,
             "ticks": ""
            },
            "type": "mesh3d"
           }
          ],
          "parcoords": [
           {
            "line": {
             "colorbar": {
              "outlinewidth": 0,
              "ticks": ""
             }
            },
            "type": "parcoords"
           }
          ],
          "pie": [
           {
            "automargin": true,
            "type": "pie"
           }
          ],
          "scatter": [
           {
            "fillpattern": {
             "fillmode": "overlay",
             "size": 10,
             "solidity": 0.2
            },
            "type": "scatter"
           }
          ],
          "scatter3d": [
           {
            "line": {
             "colorbar": {
              "outlinewidth": 0,
              "ticks": ""
             }
            },
            "marker": {
             "colorbar": {
              "outlinewidth": 0,
              "ticks": ""
             }
            },
            "type": "scatter3d"
           }
          ],
          "scattercarpet": [
           {
            "marker": {
             "colorbar": {
              "outlinewidth": 0,
              "ticks": ""
             }
            },
            "type": "scattercarpet"
           }
          ],
          "scattergeo": [
           {
            "marker": {
             "colorbar": {
              "outlinewidth": 0,
              "ticks": ""
             }
            },
            "type": "scattergeo"
           }
          ],
          "scattergl": [
           {
            "marker": {
             "colorbar": {
              "outlinewidth": 0,
              "ticks": ""
             }
            },
            "type": "scattergl"
           }
          ],
          "scattermapbox": [
           {
            "marker": {
             "colorbar": {
              "outlinewidth": 0,
              "ticks": ""
             }
            },
            "type": "scattermapbox"
           }
          ],
          "scatterpolar": [
           {
            "marker": {
             "colorbar": {
              "outlinewidth": 0,
              "ticks": ""
             }
            },
            "type": "scatterpolar"
           }
          ],
          "scatterpolargl": [
           {
            "marker": {
             "colorbar": {
              "outlinewidth": 0,
              "ticks": ""
             }
            },
            "type": "scatterpolargl"
           }
          ],
          "scatterternary": [
           {
            "marker": {
             "colorbar": {
              "outlinewidth": 0,
              "ticks": ""
             }
            },
            "type": "scatterternary"
           }
          ],
          "surface": [
           {
            "colorbar": {
             "outlinewidth": 0,
             "ticks": ""
            },
            "colorscale": [
             [
              0,
              "#0d0887"
             ],
             [
              0.1111111111111111,
              "#46039f"
             ],
             [
              0.2222222222222222,
              "#7201a8"
             ],
             [
              0.3333333333333333,
              "#9c179e"
             ],
             [
              0.4444444444444444,
              "#bd3786"
             ],
             [
              0.5555555555555556,
              "#d8576b"
             ],
             [
              0.6666666666666666,
              "#ed7953"
             ],
             [
              0.7777777777777778,
              "#fb9f3a"
             ],
             [
              0.8888888888888888,
              "#fdca26"
             ],
             [
              1,
              "#f0f921"
             ]
            ],
            "type": "surface"
           }
          ],
          "table": [
           {
            "cells": {
             "fill": {
              "color": "#EBF0F8"
             },
             "line": {
              "color": "white"
             }
            },
            "header": {
             "fill": {
              "color": "#C8D4E3"
             },
             "line": {
              "color": "white"
             }
            },
            "type": "table"
           }
          ]
         },
         "layout": {
          "annotationdefaults": {
           "arrowcolor": "#2a3f5f",
           "arrowhead": 0,
           "arrowwidth": 1
          },
          "autotypenumbers": "strict",
          "coloraxis": {
           "colorbar": {
            "outlinewidth": 0,
            "ticks": ""
           }
          },
          "colorscale": {
           "diverging": [
            [
             0,
             "#8e0152"
            ],
            [
             0.1,
             "#c51b7d"
            ],
            [
             0.2,
             "#de77ae"
            ],
            [
             0.3,
             "#f1b6da"
            ],
            [
             0.4,
             "#fde0ef"
            ],
            [
             0.5,
             "#f7f7f7"
            ],
            [
             0.6,
             "#e6f5d0"
            ],
            [
             0.7,
             "#b8e186"
            ],
            [
             0.8,
             "#7fbc41"
            ],
            [
             0.9,
             "#4d9221"
            ],
            [
             1,
             "#276419"
            ]
           ],
           "sequential": [
            [
             0,
             "#0d0887"
            ],
            [
             0.1111111111111111,
             "#46039f"
            ],
            [
             0.2222222222222222,
             "#7201a8"
            ],
            [
             0.3333333333333333,
             "#9c179e"
            ],
            [
             0.4444444444444444,
             "#bd3786"
            ],
            [
             0.5555555555555556,
             "#d8576b"
            ],
            [
             0.6666666666666666,
             "#ed7953"
            ],
            [
             0.7777777777777778,
             "#fb9f3a"
            ],
            [
             0.8888888888888888,
             "#fdca26"
            ],
            [
             1,
             "#f0f921"
            ]
           ],
           "sequentialminus": [
            [
             0,
             "#0d0887"
            ],
            [
             0.1111111111111111,
             "#46039f"
            ],
            [
             0.2222222222222222,
             "#7201a8"
            ],
            [
             0.3333333333333333,
             "#9c179e"
            ],
            [
             0.4444444444444444,
             "#bd3786"
            ],
            [
             0.5555555555555556,
             "#d8576b"
            ],
            [
             0.6666666666666666,
             "#ed7953"
            ],
            [
             0.7777777777777778,
             "#fb9f3a"
            ],
            [
             0.8888888888888888,
             "#fdca26"
            ],
            [
             1,
             "#f0f921"
            ]
           ]
          },
          "colorway": [
           "#636efa",
           "#EF553B",
           "#00cc96",
           "#ab63fa",
           "#FFA15A",
           "#19d3f3",
           "#FF6692",
           "#B6E880",
           "#FF97FF",
           "#FECB52"
          ],
          "font": {
           "color": "#2a3f5f"
          },
          "geo": {
           "bgcolor": "white",
           "lakecolor": "white",
           "landcolor": "#E5ECF6",
           "showlakes": true,
           "showland": true,
           "subunitcolor": "white"
          },
          "hoverlabel": {
           "align": "left"
          },
          "hovermode": "closest",
          "mapbox": {
           "style": "light"
          },
          "paper_bgcolor": "white",
          "plot_bgcolor": "#E5ECF6",
          "polar": {
           "angularaxis": {
            "gridcolor": "white",
            "linecolor": "white",
            "ticks": ""
           },
           "bgcolor": "#E5ECF6",
           "radialaxis": {
            "gridcolor": "white",
            "linecolor": "white",
            "ticks": ""
           }
          },
          "scene": {
           "xaxis": {
            "backgroundcolor": "#E5ECF6",
            "gridcolor": "white",
            "gridwidth": 2,
            "linecolor": "white",
            "showbackground": true,
            "ticks": "",
            "zerolinecolor": "white"
           },
           "yaxis": {
            "backgroundcolor": "#E5ECF6",
            "gridcolor": "white",
            "gridwidth": 2,
            "linecolor": "white",
            "showbackground": true,
            "ticks": "",
            "zerolinecolor": "white"
           },
           "zaxis": {
            "backgroundcolor": "#E5ECF6",
            "gridcolor": "white",
            "gridwidth": 2,
            "linecolor": "white",
            "showbackground": true,
            "ticks": "",
            "zerolinecolor": "white"
           }
          },
          "shapedefaults": {
           "line": {
            "color": "#2a3f5f"
           }
          },
          "ternary": {
           "aaxis": {
            "gridcolor": "white",
            "linecolor": "white",
            "ticks": ""
           },
           "baxis": {
            "gridcolor": "white",
            "linecolor": "white",
            "ticks": ""
           },
           "bgcolor": "#E5ECF6",
           "caxis": {
            "gridcolor": "white",
            "linecolor": "white",
            "ticks": ""
           }
          },
          "title": {
           "x": 0.05
          },
          "xaxis": {
           "automargin": true,
           "gridcolor": "white",
           "linecolor": "white",
           "ticks": "",
           "title": {
            "standoff": 15
           },
           "zerolinecolor": "white",
           "zerolinewidth": 2
          },
          "yaxis": {
           "automargin": true,
           "gridcolor": "white",
           "linecolor": "white",
           "ticks": "",
           "title": {
            "standoff": 15
           },
           "zerolinecolor": "white",
           "zerolinewidth": 2
          }
         }
        },
        "title": {
         "text": "Total Dropout Rate by State in India"
        }
       }
      }
     },
     "metadata": {},
     "output_type": "display_data"
    }
   ],
   "source": [
    "# Load the shapefile containing the geographic boundaries\n",
    "shapefile_path = \"india_state.geojson\"  \n",
    "\n",
    "# Create the choropleth map\n",
    "fig = px.choropleth(\n",
    "    data_frame=data,\n",
    "    geojson=shapefile_path,\n",
    "    featureidkey='properties.NAME_1',\n",
    "    locations='State_UT',\n",
    "    color='Year',\n",
    "    projection='mercator'\n",
    ")\n",
    "\n",
    "# Update the layout of the map\n",
    "fig.update_geos(fitbounds=\"locations\", visible=False)\n",
    "fig.update_layout(title_text='Total Dropout Rate by State in India')\n",
    "\n",
    "# Show the map\n",
    "fig.show()"
   ]
  },
  {
   "cell_type": "code",
   "execution_count": null,
   "metadata": {},
   "outputs": [],
   "source": [
    "# df1, df2\n",
    "# joined_df =pd.concat([df1, df2], axis=1)"
   ]
  },
  {
   "cell_type": "code",
   "execution_count": null,
   "metadata": {},
   "outputs": [],
   "source": []
  }
 ],
 "metadata": {
  "kernelspec": {
   "display_name": "base",
   "language": "python",
   "name": "python3"
  },
  "language_info": {
   "codemirror_mode": {
    "name": "ipython",
    "version": 3
   },
   "file_extension": ".py",
   "mimetype": "text/x-python",
   "name": "python",
   "nbconvert_exporter": "python",
   "pygments_lexer": "ipython3",
   "version": "3.11.4"
  }
 },
 "nbformat": 4,
 "nbformat_minor": 2
}
